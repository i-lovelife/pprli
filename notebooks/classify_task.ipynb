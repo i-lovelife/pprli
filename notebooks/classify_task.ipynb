{
 "cells": [
  {
   "cell_type": "code",
   "execution_count": 1,
   "metadata": {},
   "outputs": [],
   "source": [
    "%matplotlib inline\n",
    "%load_ext autoreload\n",
    "%autoreload 2"
   ]
  },
  {
   "cell_type": "code",
   "execution_count": 2,
   "metadata": {},
   "outputs": [
    {
     "name": "stderr",
     "output_type": "stream",
     "text": [
      "Using TensorFlow backend.\n"
     ]
    }
   ],
   "source": [
    "import numpy as np\n",
    "import glob\n",
    "import imageio\n",
    "from keras.models import Model\n",
    "from keras.models import load_model\n",
    "from keras.layers import *\n",
    "from keras import backend as K\n",
    "from keras.optimizers import Adam\n",
    "from keras.utils import to_categorical\n",
    "from src.data.dataset import FergZeroOne, Ferg\n",
    "from keras.callbacks import ModelCheckpoint\n",
    "import os\n",
    "os.environ[\"CUDA_VISIBLE_DEVICES\"] = \"0\""
   ]
  },
  {
   "cell_type": "code",
   "execution_count": 3,
   "metadata": {},
   "outputs": [
    {
     "name": "stdout",
     "output_type": "stream",
     "text": [
      "x: (47401, 64, 64, 3)\n",
      "y: (47401, 7)\n",
      "p: (47401, 6)\n",
      "x: (8365, 64, 64, 3)\n",
      "y: (8365, 7)\n",
      "p: (8365, 6)\n"
     ]
    }
   ],
   "source": [
    "ferg = Ferg.from_hdf5(select_people=[0, 1, 2, 3, 4, 5], transform=True)\n",
    "train_data = ferg.get_train()\n",
    "test_data = ferg.get_test()\n",
    "for key, value in train_data.items():\n",
    "    print(f'{key}: {value.shape}')\n",
    "\n",
    "for key, value in test_data.items():\n",
    "    print(f'{key}: {value.shape}')\n",
    "\n",
    "x_train, y_train, p_train = train_data['x'], train_data['y'], train_data['p']\n",
    "x_test, y_test, p_test = test_data['x'], test_data['y'], test_data['p']"
   ]
  },
  {
   "cell_type": "code",
   "execution_count": 4,
   "metadata": {},
   "outputs": [
    {
     "name": "stdout",
     "output_type": "stream",
     "text": [
      "_________________________________________________________________\n",
      "Layer (type)                 Output Shape              Param #   \n",
      "=================================================================\n",
      "input_1 (InputLayer)         (None, 64, 64, 3)         0         \n",
      "_________________________________________________________________\n",
      "conv2d_1 (Conv2D)            (None, 64, 64, 64)        1792      \n",
      "_________________________________________________________________\n",
      "batch_normalization_1 (Batch (None, 64, 64, 64)        256       \n",
      "_________________________________________________________________\n",
      "leaky_re_lu_1 (LeakyReLU)    (None, 64, 64, 64)        0         \n",
      "_________________________________________________________________\n",
      "conv2d_2 (Conv2D)            (None, 64, 64, 64)        36928     \n",
      "_________________________________________________________________\n",
      "batch_normalization_2 (Batch (None, 64, 64, 64)        256       \n",
      "_________________________________________________________________\n",
      "leaky_re_lu_2 (LeakyReLU)    (None, 64, 64, 64)        0         \n",
      "_________________________________________________________________\n",
      "conv2d_3 (Conv2D)            (None, 64, 64, 64)        36928     \n",
      "_________________________________________________________________\n",
      "batch_normalization_3 (Batch (None, 64, 64, 64)        256       \n",
      "_________________________________________________________________\n",
      "leaky_re_lu_3 (LeakyReLU)    (None, 64, 64, 64)        0         \n",
      "_________________________________________________________________\n",
      "conv2d_4 (Conv2D)            (None, 64, 64, 64)        36928     \n",
      "_________________________________________________________________\n",
      "batch_normalization_4 (Batch (None, 64, 64, 64)        256       \n",
      "_________________________________________________________________\n",
      "leaky_re_lu_4 (LeakyReLU)    (None, 64, 64, 64)        0         \n",
      "_________________________________________________________________\n",
      "global_max_pooling2d_1 (Glob (None, 64)                0         \n",
      "_________________________________________________________________\n",
      "dense_1 (Dense)              (None, 64)                4160      \n",
      "_________________________________________________________________\n",
      "dense_2 (Dense)              (None, 7)                 455       \n",
      "=================================================================\n",
      "Total params: 118,215\n",
      "Trainable params: 117,703\n",
      "Non-trainable params: 512\n",
      "_________________________________________________________________\n"
     ]
    }
   ],
   "source": [
    "# train a classify model aiming to classify face expression(y)\n",
    "img_dim = 64\n",
    "num_cnn = 4\n",
    "z_dim = 64\n",
    "y_class = 7\n",
    "p_class = 6\n",
    "x_in = Input(shape=(img_dim, img_dim, 3))\n",
    "x = x_in\n",
    "all_models = []\n",
    "all_models.append(Model(x_in, x))\n",
    "for i in range(num_cnn):\n",
    "    x = Conv2D(z_dim,\n",
    "               kernel_size=(3,3),\n",
    "               padding='SAME')(x)\n",
    "    x = BatchNormalization()(x)\n",
    "    x = LeakyReLU(0.2)(x)\n",
    "    all_models.append(Model(x_in, x))\n",
    "x = GlobalMaxPooling2D()(x)\n",
    "all_models.append(Model(x_in, x))\n",
    "x = Dense(z_dim, activation='relu')(x)\n",
    "all_models.append(Model(x_in, x))\n",
    "x = Dense(y_class, activation='softmax')(x)\n",
    "all_models.append(Model(x_in, x))\n",
    "model = Model(x_in, x)\n",
    "model.compile(optimizer=Adam(1e-3), loss='categorical_crossentropy', metrics=['acc'])\n",
    "model.summary()"
   ]
  },
  {
   "cell_type": "code",
   "execution_count": null,
   "metadata": {},
   "outputs": [
    {
     "name": "stdout",
     "output_type": "stream",
     "text": [
      "Train on 47401 samples, validate on 8365 samples\n",
      "Epoch 1/5\n",
      "46720/47401 [============================>.] - ETA: 0s - loss: 0.1147 - acc: 0.9684"
     ]
    }
   ],
   "source": [
    "callback = ModelCheckpoint('./classify_task_best_weights.h5', monitor='val_loss', verbose=0, save_best_only=True, save_weights_only=True, mode='auto', period=1)\n",
    "model.fit(x_train, y_train, epochs=5, batch_size=64, validation_data=(x_test, y_test), callbacks=[callback])"
   ]
  },
  {
   "cell_type": "code",
   "execution_count": null,
   "metadata": {},
   "outputs": [],
   "source": [
    "model.load_weights('./classify_task_best_weights.h5')"
   ]
  },
  {
   "cell_type": "code",
   "execution_count": null,
   "metadata": {},
   "outputs": [],
   "source": [
    "def evaluate(x_train, x_test, p_train, p_test, num_classes=6):\n",
    "    input_shape = x_train.shape[1:]\n",
    "    x_in = Input(shape=input_shape)\n",
    "    x = x_in\n",
    "    if len(input_shape) == 1:\n",
    "        #64 or 7\n",
    "        dim = input_shape[0]\n",
    "        x = Dense(dim, activation='relu')(x)\n",
    "    else:\n",
    "        #(64, 64, 64) or (64, 64, 3)\n",
    "        z_dim = input_shape[0]\n",
    "        for i in range(num_cnn):\n",
    "            x = Conv2D(z_dim,\n",
    "                       kernel_size=(3,3),\n",
    "                       padding='SAME')(x)\n",
    "            x = BatchNormalization()(x)\n",
    "            x = LeakyReLU(0.2)(x)\n",
    "        x = GlobalMaxPooling2D()(x)\n",
    "    x = Dense(num_classes, activation='relu')(x)\n",
    "    eva_model = Model(x_in, x)\n",
    "    eva_model.compile(optimizer=Adam(1e-3), loss='categorical_crossentropy', metrics=['acc'])\n",
    "    history = eva_model.fit(x_train, p_train, epochs=5, batch_size=64, validation_data=(x_test, p_test))\n",
    "    return np.max(history.history['val_acc'])\n",
    "\n",
    "all_acc = []\n",
    "for i, model in enumerate(all_models):\n",
    "    if i == 0:\n",
    "        continue\n",
    "    x_eva_train = model.predict(x_train, batch_size=64)\n",
    "    x_eva_test = model.predict(x_test, batch_size=64)\n",
    "    all_acc.append(evaluate(x_eva_train, x_eva_test, p_train, p_test))\n",
    "    \n",
    "print(all_acc)"
   ]
  }
 ],
 "metadata": {
  "kernelspec": {
   "display_name": "Python 3",
   "language": "python",
   "name": "python3"
  },
  "language_info": {
   "codemirror_mode": {
    "name": "ipython",
    "version": 3
   },
   "file_extension": ".py",
   "mimetype": "text/x-python",
   "name": "python",
   "nbconvert_exporter": "python",
   "pygments_lexer": "ipython3",
   "version": "3.6.5"
  }
 },
 "nbformat": 4,
 "nbformat_minor": 2
}
