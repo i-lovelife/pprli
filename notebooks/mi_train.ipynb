{
 "cells": [
  {
   "cell_type": "code",
   "execution_count": 1,
   "metadata": {},
   "outputs": [],
   "source": [
    "%matplotlib inline\n",
    "%load_ext autoreload\n",
    "%autoreload 2"
   ]
  },
  {
   "cell_type": "code",
   "execution_count": 2,
   "metadata": {},
   "outputs": [
    {
     "name": "stderr",
     "output_type": "stream",
     "text": [
      "Using TensorFlow backend.\n"
     ]
    }
   ],
   "source": [
    "from keras.layers import Input, Lambda, BatchNormalization, Conv2D, Reshape, Dense,\\\n",
    "                         Dropout, Activation, Flatten, LeakyReLU, Add, MaxPooling2D,\\\n",
    "                         GlobalMaxPooling2D, Subtract, Concatenate\n",
    "from keras.losses import categorical_crossentropy\n",
    "from keras.models import Model\n",
    "from keras import backend as K\n",
    "from keras.optimizers import Adam\n",
    "\n",
    "from pathlib import Path\n",
    "import numpy as np\n",
    "from src.data.dataset import load_ferg\n",
    "from src import PROJECT_ROOT\n",
    "import os\n",
    "os.environ[\"CUDA_VISIBLE_DEVICES\"] = '0'"
   ]
  },
  {
   "cell_type": "code",
   "execution_count": 3,
   "metadata": {},
   "outputs": [
    {
     "name": "stdout",
     "output_type": "stream",
     "text": [
      "7, 6, (64, 64, 3)\n"
     ]
    }
   ],
   "source": [
    "loader = load_ferg()\n",
    "(x_train, y_train, p_train), (x_test, y_test, p_test) = loader.load_data()\n",
    "num_y, num_p = loader.get_num_classes()\n",
    "input_shape = x_train[0].shape\n",
    "print(f'{num_y}, {num_p}, {input_shape}')"
   ]
  },
  {
   "cell_type": "code",
   "execution_count": 4,
   "metadata": {},
   "outputs": [],
   "source": [
    "def empty_loss(y_true, y_pred):\n",
    "    return y_pred\n",
    "def make_trainable(net, val):\n",
    "    net.trainable = val\n",
    "    for l in net.layers:\n",
    "        l.trainable = val\n",
    "def show_model(model):\n",
    "    print('-'*80)\n",
    "    print(model.summary())\n",
    "    print(model.metrics_names)\n",
    "    print('-'*80)"
   ]
  },
  {
   "cell_type": "code",
   "execution_count": 15,
   "metadata": {},
   "outputs": [
    {
     "name": "stdout",
     "output_type": "stream",
     "text": [
      "epoch0: acc1=0.5396294082842825, acc2=1.0\n",
      "epoch0: loss_y:1.3855125904083252, loss_p:13.72799015045166, loss_adv:-12.193449020385742\n",
      "epoch1: acc1=0.8334728035681702, acc2=1.0\n"
     ]
    },
    {
     "ename": "KeyboardInterrupt",
     "evalue": "",
     "output_type": "error",
     "traceback": [
      "\u001b[0;31m---------------------------------------------------------------------------\u001b[0m",
      "\u001b[0;31mKeyboardInterrupt\u001b[0m                         Traceback (most recent call last)",
      "\u001b[0;32m<ipython-input-15-442bd5c114a3>\u001b[0m in \u001b[0;36m<module>\u001b[0;34m\u001b[0m\n\u001b[1;32m    106\u001b[0m             \u001b[0mloss_adv_history\u001b[0m\u001b[0;34m.\u001b[0m\u001b[0mappend\u001b[0m\u001b[0;34m(\u001b[0m\u001b[0mloss_adv\u001b[0m\u001b[0;34m)\u001b[0m\u001b[0;34m\u001b[0m\u001b[0m\n\u001b[1;32m    107\u001b[0m         \u001b[0mprint\u001b[0m\u001b[0;34m(\u001b[0m\u001b[0;34mf'epoch{i}: loss_y:{np.mean(loss_y_history)}, loss_p:{np.mean(loss_p_history)}, loss_adv:{np.mean(loss_adv_history)}'\u001b[0m\u001b[0;34m)\u001b[0m\u001b[0;34m\u001b[0m\u001b[0m\n\u001b[0;32m--> 108\u001b[0;31m \u001b[0mtrain\u001b[0m\u001b[0;34m(\u001b[0m\u001b[0;34m(\u001b[0m\u001b[0mx_train\u001b[0m\u001b[0;34m,\u001b[0m \u001b[0my_train\u001b[0m\u001b[0;34m,\u001b[0m \u001b[0mp_train\u001b[0m\u001b[0;34m)\u001b[0m\u001b[0;34m,\u001b[0m \u001b[0minput_shape\u001b[0m\u001b[0;34m,\u001b[0m \u001b[0mnum_y\u001b[0m\u001b[0;34m,\u001b[0m \u001b[0mnum_p\u001b[0m\u001b[0;34m,\u001b[0m \u001b[0mdry_run\u001b[0m\u001b[0;34m=\u001b[0m\u001b[0;32mFalse\u001b[0m\u001b[0;34m)\u001b[0m\u001b[0;34m\u001b[0m\u001b[0m\n\u001b[0m",
      "\u001b[0;32m<ipython-input-15-442bd5c114a3>\u001b[0m in \u001b[0;36mtrain\u001b[0;34m(train_data, input_shape, num_y, num_p, num_epochs, batch_size, dry_run, z_dim)\u001b[0m\n\u001b[1;32m    103\u001b[0m             \u001b[0mmake_trainable\u001b[0m\u001b[0;34m(\u001b[0m\u001b[0mdecoder_y\u001b[0m\u001b[0;34m,\u001b[0m \u001b[0;32mFalse\u001b[0m\u001b[0;34m)\u001b[0m\u001b[0;34m\u001b[0m\u001b[0m\n\u001b[1;32m    104\u001b[0m             \u001b[0mmake_trainable\u001b[0m\u001b[0;34m(\u001b[0m\u001b[0mdecoder_p\u001b[0m\u001b[0;34m,\u001b[0m \u001b[0;32mFalse\u001b[0m\u001b[0;34m)\u001b[0m\u001b[0;34m\u001b[0m\u001b[0m\n\u001b[0;32m--> 105\u001b[0;31m             \u001b[0mloss_adv\u001b[0m \u001b[0;34m=\u001b[0m \u001b[0madv\u001b[0m\u001b[0;34m.\u001b[0m\u001b[0mtrain_on_batch\u001b[0m\u001b[0;34m(\u001b[0m\u001b[0;34m[\u001b[0m\u001b[0mx_batch\u001b[0m\u001b[0;34m,\u001b[0m \u001b[0my_batch\u001b[0m\u001b[0;34m,\u001b[0m \u001b[0mp_batch\u001b[0m\u001b[0;34m]\u001b[0m\u001b[0;34m,\u001b[0m \u001b[0my_batch\u001b[0m\u001b[0;34m)\u001b[0m\u001b[0;34m\u001b[0m\u001b[0m\n\u001b[0m\u001b[1;32m    106\u001b[0m             \u001b[0mloss_adv_history\u001b[0m\u001b[0;34m.\u001b[0m\u001b[0mappend\u001b[0m\u001b[0;34m(\u001b[0m\u001b[0mloss_adv\u001b[0m\u001b[0;34m)\u001b[0m\u001b[0;34m\u001b[0m\u001b[0m\n\u001b[1;32m    107\u001b[0m         \u001b[0mprint\u001b[0m\u001b[0;34m(\u001b[0m\u001b[0;34mf'epoch{i}: loss_y:{np.mean(loss_y_history)}, loss_p:{np.mean(loss_p_history)}, loss_adv:{np.mean(loss_adv_history)}'\u001b[0m\u001b[0;34m)\u001b[0m\u001b[0;34m\u001b[0m\u001b[0m\n",
      "\u001b[0;32m/share/nanlh/work/pprli/pprli_env/lib/python3.6/site-packages/keras/engine/training.py\u001b[0m in \u001b[0;36mtrain_on_batch\u001b[0;34m(self, x, y, sample_weight, class_weight)\u001b[0m\n\u001b[1;32m   1215\u001b[0m             \u001b[0mins\u001b[0m \u001b[0;34m=\u001b[0m \u001b[0mx\u001b[0m \u001b[0;34m+\u001b[0m \u001b[0my\u001b[0m \u001b[0;34m+\u001b[0m \u001b[0msample_weights\u001b[0m\u001b[0;34m\u001b[0m\u001b[0m\n\u001b[1;32m   1216\u001b[0m         \u001b[0mself\u001b[0m\u001b[0;34m.\u001b[0m\u001b[0m_make_train_function\u001b[0m\u001b[0;34m(\u001b[0m\u001b[0;34m)\u001b[0m\u001b[0;34m\u001b[0m\u001b[0m\n\u001b[0;32m-> 1217\u001b[0;31m         \u001b[0moutputs\u001b[0m \u001b[0;34m=\u001b[0m \u001b[0mself\u001b[0m\u001b[0;34m.\u001b[0m\u001b[0mtrain_function\u001b[0m\u001b[0;34m(\u001b[0m\u001b[0mins\u001b[0m\u001b[0;34m)\u001b[0m\u001b[0;34m\u001b[0m\u001b[0m\n\u001b[0m\u001b[1;32m   1218\u001b[0m         \u001b[0;32mreturn\u001b[0m \u001b[0munpack_singleton\u001b[0m\u001b[0;34m(\u001b[0m\u001b[0moutputs\u001b[0m\u001b[0;34m)\u001b[0m\u001b[0;34m\u001b[0m\u001b[0m\n\u001b[1;32m   1219\u001b[0m \u001b[0;34m\u001b[0m\u001b[0m\n",
      "\u001b[0;32m/share/nanlh/work/pprli/pprli_env/lib/python3.6/site-packages/keras/backend/tensorflow_backend.py\u001b[0m in \u001b[0;36m__call__\u001b[0;34m(self, inputs)\u001b[0m\n\u001b[1;32m   2713\u001b[0m                 \u001b[0;32mreturn\u001b[0m \u001b[0mself\u001b[0m\u001b[0;34m.\u001b[0m\u001b[0m_legacy_call\u001b[0m\u001b[0;34m(\u001b[0m\u001b[0minputs\u001b[0m\u001b[0;34m)\u001b[0m\u001b[0;34m\u001b[0m\u001b[0m\n\u001b[1;32m   2714\u001b[0m \u001b[0;34m\u001b[0m\u001b[0m\n\u001b[0;32m-> 2715\u001b[0;31m             \u001b[0;32mreturn\u001b[0m \u001b[0mself\u001b[0m\u001b[0;34m.\u001b[0m\u001b[0m_call\u001b[0m\u001b[0;34m(\u001b[0m\u001b[0minputs\u001b[0m\u001b[0;34m)\u001b[0m\u001b[0;34m\u001b[0m\u001b[0m\n\u001b[0m\u001b[1;32m   2716\u001b[0m         \u001b[0;32melse\u001b[0m\u001b[0;34m:\u001b[0m\u001b[0;34m\u001b[0m\u001b[0m\n\u001b[1;32m   2717\u001b[0m             \u001b[0;32mif\u001b[0m \u001b[0mpy_any\u001b[0m\u001b[0;34m(\u001b[0m\u001b[0mis_tensor\u001b[0m\u001b[0;34m(\u001b[0m\u001b[0mx\u001b[0m\u001b[0;34m)\u001b[0m \u001b[0;32mfor\u001b[0m \u001b[0mx\u001b[0m \u001b[0;32min\u001b[0m \u001b[0minputs\u001b[0m\u001b[0;34m)\u001b[0m\u001b[0;34m:\u001b[0m\u001b[0;34m\u001b[0m\u001b[0m\n",
      "\u001b[0;32m/share/nanlh/work/pprli/pprli_env/lib/python3.6/site-packages/keras/backend/tensorflow_backend.py\u001b[0m in \u001b[0;36m_call\u001b[0;34m(self, inputs)\u001b[0m\n\u001b[1;32m   2673\u001b[0m             \u001b[0mfetched\u001b[0m \u001b[0;34m=\u001b[0m \u001b[0mself\u001b[0m\u001b[0;34m.\u001b[0m\u001b[0m_callable_fn\u001b[0m\u001b[0;34m(\u001b[0m\u001b[0;34m*\u001b[0m\u001b[0marray_vals\u001b[0m\u001b[0;34m,\u001b[0m \u001b[0mrun_metadata\u001b[0m\u001b[0;34m=\u001b[0m\u001b[0mself\u001b[0m\u001b[0;34m.\u001b[0m\u001b[0mrun_metadata\u001b[0m\u001b[0;34m)\u001b[0m\u001b[0;34m\u001b[0m\u001b[0m\n\u001b[1;32m   2674\u001b[0m         \u001b[0;32melse\u001b[0m\u001b[0;34m:\u001b[0m\u001b[0;34m\u001b[0m\u001b[0m\n\u001b[0;32m-> 2675\u001b[0;31m             \u001b[0mfetched\u001b[0m \u001b[0;34m=\u001b[0m \u001b[0mself\u001b[0m\u001b[0;34m.\u001b[0m\u001b[0m_callable_fn\u001b[0m\u001b[0;34m(\u001b[0m\u001b[0;34m*\u001b[0m\u001b[0marray_vals\u001b[0m\u001b[0;34m)\u001b[0m\u001b[0;34m\u001b[0m\u001b[0m\n\u001b[0m\u001b[1;32m   2676\u001b[0m         \u001b[0;32mreturn\u001b[0m \u001b[0mfetched\u001b[0m\u001b[0;34m[\u001b[0m\u001b[0;34m:\u001b[0m\u001b[0mlen\u001b[0m\u001b[0;34m(\u001b[0m\u001b[0mself\u001b[0m\u001b[0;34m.\u001b[0m\u001b[0moutputs\u001b[0m\u001b[0;34m)\u001b[0m\u001b[0;34m]\u001b[0m\u001b[0;34m\u001b[0m\u001b[0m\n\u001b[1;32m   2677\u001b[0m \u001b[0;34m\u001b[0m\u001b[0m\n",
      "\u001b[0;32m/share/nanlh/work/pprli/pprli_env/lib/python3.6/site-packages/tensorflow/python/client/session.py\u001b[0m in \u001b[0;36m__call__\u001b[0;34m(self, *args, **kwargs)\u001b[0m\n\u001b[1;32m   1380\u001b[0m           ret = tf_session.TF_SessionRunCallable(\n\u001b[1;32m   1381\u001b[0m               \u001b[0mself\u001b[0m\u001b[0;34m.\u001b[0m\u001b[0m_session\u001b[0m\u001b[0;34m.\u001b[0m\u001b[0m_session\u001b[0m\u001b[0;34m,\u001b[0m \u001b[0mself\u001b[0m\u001b[0;34m.\u001b[0m\u001b[0m_handle\u001b[0m\u001b[0;34m,\u001b[0m \u001b[0margs\u001b[0m\u001b[0;34m,\u001b[0m \u001b[0mstatus\u001b[0m\u001b[0;34m,\u001b[0m\u001b[0;34m\u001b[0m\u001b[0m\n\u001b[0;32m-> 1382\u001b[0;31m               run_metadata_ptr)\n\u001b[0m\u001b[1;32m   1383\u001b[0m         \u001b[0;32mif\u001b[0m \u001b[0mrun_metadata\u001b[0m\u001b[0;34m:\u001b[0m\u001b[0;34m\u001b[0m\u001b[0m\n\u001b[1;32m   1384\u001b[0m           \u001b[0mproto_data\u001b[0m \u001b[0;34m=\u001b[0m \u001b[0mtf_session\u001b[0m\u001b[0;34m.\u001b[0m\u001b[0mTF_GetBuffer\u001b[0m\u001b[0;34m(\u001b[0m\u001b[0mrun_metadata_ptr\u001b[0m\u001b[0;34m)\u001b[0m\u001b[0;34m\u001b[0m\u001b[0m\n",
      "\u001b[0;31mKeyboardInterrupt\u001b[0m: "
     ]
    }
   ],
   "source": [
    "def build_classifier(num_classes, feature_dim=128):\n",
    "    x_in = Input((feature_dim,))\n",
    "    out = Dense(num_classes, activation='softmax')(x_in)\n",
    "    model = Model(x_in, out)\n",
    "    return model\n",
    "def evaluate_encoder(train_data, test_data, num_classes, batch_size=256, num_epochs=20):\n",
    "    decoder = build_classifier(num_classes)\n",
    "    x_train, y_train = train_data\n",
    "    x_test, y_test = test_data\n",
    "    decoder.compile(optimizer=Adam(1e-3), loss='categorical_crossentropy', metrics=['accuracy'])\n",
    "    history = decoder.fit(x=x_train, y=y_train, epochs=num_epochs,batch_size=batch_size,\\\n",
    "                validation_data=(x_test, y_test),verbose=0)\n",
    "    return np.max(history.history['val_acc'])\n",
    "def build_encoder(input_shape, z_dim=128):\n",
    "    x_in = Input(input_shape)\n",
    "    x = x_in\n",
    "    field_size = 8\n",
    "    for i in range(3):\n",
    "        x = Conv2D(int(z_dim / 2**(2-i)),\n",
    "                   kernel_size=(field_size, field_size),\n",
    "                   padding='SAME')(x)\n",
    "        x = BatchNormalization()(x)\n",
    "        x = LeakyReLU(0.2)(x)\n",
    "        x = MaxPooling2D((2, 2))(x)\n",
    "    x = GlobalMaxPooling2D()(x)\n",
    "    return Model(x_in, x)\n",
    "def shuffling(x):\n",
    "    idxs = K.arange(0, K.shape(x)[0])\n",
    "    idxs = K.tf.random_shuffle(idxs)\n",
    "    return K.gather(x, idxs)\n",
    "def sampling(args):\n",
    "    z_mean, z_log_var = args\n",
    "    epsilon = K.random_normal(shape=(K.shape(z_mean)[0], latent_dim), mean=0.,\n",
    "                              stddev=epsilon_std)\n",
    "    return z_mean + K.exp(z_log_var / 2) * epsilon\n",
    "\n",
    "def build_discriminator(input_shape, z_dim=32):\n",
    "    x_in = Input(input_shape)\n",
    "    z = x_in\n",
    "    z = Dense(z_dim, activation='relu')(z)\n",
    "    z = Dense(z_dim, activation='relu')(z)\n",
    "    z = Dense(z_dim, activation='relu')(z)\n",
    "    z = Dense(1, activation='sigmoid')(z)\n",
    "    return Model(x_in, z)\n",
    "def build_mi_estimator(x_dim, y_dim):\n",
    "    x_in = Input((x_dim,))\n",
    "    y_in = Input((y_dim,))\n",
    "    y_shuffle = Lambda(shuffling)(y_in)\n",
    "    dis = build_discriminator((x_dim+y_dim,))\n",
    "    score_joint = dis(Concatenate()([x_in, y_in]))\n",
    "    score_indep = dis(Concatenate()([x_in, y_shuffle]))\n",
    "    score_layer = Lambda(lambda x: - K.mean(K.log(x[0] + 1e-6) + K.log(1 - x[1] + 1e-6)))\n",
    "    score = score_layer([score_joint, score_indep])\n",
    "    return Model([x_in, y_in], score)\n",
    "\n",
    "def train(train_data, input_shape, num_y, num_p, num_epochs=20, batch_size=128, dry_run=False, z_dim=128):\n",
    "    x_train, y_train, p_train = train_data\n",
    "    num_example = x_train.shape[0]\n",
    "    encoder = build_encoder(input_shape, z_dim)\n",
    "    decoder_y = build_mi_estimator(z_dim, num_y)\n",
    "    decoder_y.compile(optimizer=Adam(1e-3), loss=empty_loss)\n",
    "    decoder_p = build_mi_estimator(z_dim, num_p)\n",
    "    decoder_p.compile(optimizer=Adam(1e-3), loss=empty_loss)\n",
    "    adv  = build_adv(input_shape, encoder, decoder_y, decoder_p, num_y, num_p)\n",
    "    adv.compile(optimizer=Adam(1e-3), loss=empty_loss)\n",
    "    if dry_run:\n",
    "        show_model(decoder_y)\n",
    "        show_model(decoder_p)\n",
    "        show_model(adv)\n",
    "        return\n",
    "    batch_count = num_example // batch_size\n",
    "    for i in range(num_epochs):\n",
    "        loss_y_history, loss_p_history, loss_adv_history = [], [], []\n",
    "        idx = np.random.permutation(num_example)\n",
    "        #evaluate encoder\n",
    "        z_train = encoder.predict(x_train)\n",
    "        z_test = encoder.predict(x_test)\n",
    "        acc2 = evaluate_encoder((z_train, p_train), (z_test, p_test), num_p, num_epochs=20)\n",
    "        acc1 = evaluate_encoder((z_train, y_train), (z_test, y_test), num_y, num_epochs=20)\n",
    "        print(f'epoch{i}: acc1={acc1}, acc2={acc2}')\n",
    "        for j in range(batch_count):\n",
    "            selected_idx = idx[j*batch_size: (j+1)*batch_size]\n",
    "            x_batch = x_train[selected_idx]\n",
    "            y_batch = y_train[selected_idx]\n",
    "            p_batch = p_train[selected_idx]\n",
    "            #train decoder_y\n",
    "            z_batch = encoder.predict_on_batch(x_batch)\n",
    "            make_trainable(decoder_y, True)\n",
    "            make_trainable(decoder_p, True)\n",
    "            loss_y = decoder_y.train_on_batch([z_batch, y_batch], y_batch)\n",
    "            loss_p = decoder_p.train_on_batch([z_batch, p_batch], p_batch)\n",
    "            loss_y_history.append(loss_y)\n",
    "            loss_p_history.append(loss_p)\n",
    "            #train adv\n",
    "            make_trainable(decoder_y, False)\n",
    "            make_trainable(decoder_p, False)\n",
    "            loss_adv = adv.train_on_batch([x_batch, y_batch, p_batch], y_batch)\n",
    "            loss_adv_history.append(loss_adv)\n",
    "        print(f'epoch{i}: loss_y:{np.mean(loss_y_history)}, loss_p:{np.mean(loss_p_history)}, loss_adv:{np.mean(loss_adv_history)}')\n",
    "train((x_train, y_train, p_train), input_shape, num_y, num_p, dry_run=False)"
   ]
  }
 ],
 "metadata": {
  "kernelspec": {
   "display_name": "Python 3",
   "language": "python",
   "name": "python3"
  },
  "language_info": {
   "codemirror_mode": {
    "name": "ipython",
    "version": 3
   },
   "file_extension": ".py",
   "mimetype": "text/x-python",
   "name": "python",
   "nbconvert_exporter": "python",
   "pygments_lexer": "ipython3",
   "version": "3.6.5"
  }
 },
 "nbformat": 4,
 "nbformat_minor": 2
}
