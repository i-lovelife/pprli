{
 "cells": [
  {
   "cell_type": "code",
   "execution_count": 1,
   "metadata": {},
   "outputs": [
    {
     "name": "stderr",
     "output_type": "stream",
     "text": [
      "Using TensorFlow backend.\n"
     ]
    }
   ],
   "source": [
    "from keras.layers import *\n",
    "from keras.datasets import mnist\n",
    "from keras.models import Model\n",
    "from keras.optimizers import Adam\n",
    "from keras.datasets import mnist\n",
    "import numpy as np\n",
    "import imageio\n",
    "import os\n",
    "os.environ[\"CUDA_VISIBLE_DEVICES\"] = \"3\""
   ]
  },
  {
   "cell_type": "code",
   "execution_count": 10,
   "metadata": {},
   "outputs": [
    {
     "name": "stdout",
     "output_type": "stream",
     "text": [
      "a\n"
     ]
    }
   ],
   "source": [
    "class A:\n",
    "    def __init__(self):\n",
    "        print('a')\n",
    "\n",
    "class B:\n",
    "    def __init__(self):\n",
    "        print('b')\n",
    "        \n",
    "class C(A, B):\n",
    "    def __init__(self):\n",
    "        super(C, self).__init__()\n",
    "\n",
    "c = C()"
   ]
  },
  {
   "cell_type": "code",
   "execution_count": 8,
   "metadata": {},
   "outputs": [
    {
     "name": "stdout",
     "output_type": "stream",
     "text": [
      "Train on 25000 samples, validate on 25000 samples\n",
      "Epoch 1/5\n",
      "25000/25000 [==============================] - 7s 262us/step - loss: 0.3911 - acc: 0.8304 - val_loss: 0.2895 - val_acc: 0.8949\n",
      "Epoch 2/5\n",
      "25000/25000 [==============================] - 6s 244us/step - loss: 0.2187 - acc: 0.9291 - val_loss: 0.3000 - val_acc: 0.8871\n",
      "Epoch 3/5\n",
      "25000/25000 [==============================] - 6s 245us/step - loss: 0.1193 - acc: 0.9714 - val_loss: 0.3869 - val_acc: 0.8668\n",
      "Epoch 4/5\n",
      "25000/25000 [==============================] - 6s 244us/step - loss: 0.0695 - acc: 0.9901 - val_loss: 0.3851 - val_acc: 0.8829\n",
      "Epoch 5/5\n",
      "25000/25000 [==============================] - 6s 244us/step - loss: 0.0537 - acc: 0.9934 - val_loss: 0.6312 - val_acc: 0.8479\n"
     ]
    },
    {
     "data": {
      "text/plain": [
       "\"\\n# 去掉VIB后的模型\\nseq_in = Input(shape=(maxlen,))\\nseq = seq_in\\nseq = Embedding(max_features, embedding_dims)(seq)\\nseq = Conv1D(filters,\\n             kernel_size,\\n             padding='valid',\\n             activation='relu',\\n             strides=1)(seq)\\nseq = GlobalMaxPooling1D()(seq)\\nseq = Dense(128, activation='relu')(seq)\\nseq = Dense(1, activation='sigmoid')(seq)\\nmodel = Model(seq_in, seq)\\nmodel.compile(loss='binary_crossentropy',\\n              optimizer='adam',\\n              metrics=['accuracy'])\\nmodel.fit(x_train, y_train,\\n          batch_size=batch_size,\\n          epochs=epochs,\\n          validation_data=(x_test, y_test))\\n\""
      ]
     },
     "execution_count": 8,
     "metadata": {},
     "output_type": "execute_result"
    }
   ],
   "source": [
    "from keras.preprocessing import sequence\n",
    "from keras.layers import *\n",
    "from keras.models import Model\n",
    "import keras.backend as K\n",
    "from keras.datasets import imdb\n",
    "\n",
    "\n",
    "class VIB(Model):\n",
    "    \"\"\"变分信息瓶颈层\n",
    "    \"\"\"\n",
    "    def __init__(self, lamb, **kwargs):\n",
    "        self.lamb = lamb\n",
    "        super(VIB, self).__init__(**kwargs)\n",
    "        self.ds_mean = Dense(128)\n",
    "        self.ds_log_var = Dense(128)\n",
    "    def call(self, inputs):\n",
    "        seq = inputs\n",
    "        z_mean = self.ds_mean(seq)\n",
    "        z_log_var = self.ds_log_var(seq)\n",
    "        u = K.random_normal(shape=K.shape(z_mean))\n",
    "        kl_loss = - 0.5 * K.sum(K.mean(1 + z_log_var - K.square(z_mean) - K.exp(z_log_var), 0))\n",
    "        self.add_loss(self.lamb * kl_loss)\n",
    "        u = K.in_train_phase(u, 0.)\n",
    "        return z_mean + K.exp(z_log_var / 2) * u\n",
    "    def compute_output_shape(self, input_shape):\n",
    "        return input_shape[0]\n",
    "\n",
    "\n",
    "max_features = 5000\n",
    "maxlen = 400\n",
    "batch_size = 32\n",
    "embedding_dims = 50\n",
    "filters = 250\n",
    "kernel_size = 3\n",
    "epochs = 5\n",
    "\n",
    "\n",
    "(x_train, y_train), (x_test, y_test) = imdb.load_data(num_words=max_features)\n",
    "x_train = sequence.pad_sequences(x_train, maxlen=maxlen)\n",
    "x_test = sequence.pad_sequences(x_test, maxlen=maxlen)\n",
    "\n",
    "class VIB(Layer):\n",
    "    \"\"\"变分信息瓶颈层\n",
    "    \"\"\"\n",
    "    def __init__(self, lamb, **kwargs):\n",
    "        self.lamb = lamb\n",
    "        super(VIB, self).__init__(**kwargs)\n",
    "    def call(self, inputs):\n",
    "        z_mean, z_log_var = inputs\n",
    "        u = K.random_normal(shape=K.shape(z_mean))\n",
    "        kl_loss = - 0.5 * K.sum(K.mean(1 + z_log_var - K.square(z_mean) - K.exp(z_log_var), 0))\n",
    "        self.add_loss(self.lamb * kl_loss)\n",
    "        u = K.in_train_phase(u, 0.)\n",
    "        return z_mean + K.exp(z_log_var / 2) * u\n",
    "    def compute_output_shape(self, input_shape):\n",
    "        return input_shape[0]\n",
    "\n",
    "\n",
    "max_features = 5000\n",
    "maxlen = 400\n",
    "batch_size = 32\n",
    "embedding_dims = 50\n",
    "filters = 250\n",
    "kernel_size = 3\n",
    "epochs = 5\n",
    "\n",
    "\n",
    "(x_train, y_train), (x_test, y_test) = imdb.load_data(num_words=max_features)\n",
    "x_train = sequence.pad_sequences(x_train, maxlen=maxlen)\n",
    "x_test = sequence.pad_sequences(x_test, maxlen=maxlen)\n",
    "\n",
    "\n",
    "seq_in = Input(shape=(maxlen,))\n",
    "seq = seq_in\n",
    "\n",
    "seq = Embedding(max_features, embedding_dims)(seq)\n",
    "seq = Conv1D(filters,\n",
    "             kernel_size,\n",
    "             padding='valid',\n",
    "             activation='relu',\n",
    "             strides=1)(seq)\n",
    "seq = GlobalMaxPooling1D()(seq)\n",
    "\n",
    "z_mean = Dense(128)(seq)\n",
    "z_log_var = Dense(128)(seq)\n",
    "seq = VIB(0.1)([z_mean, z_log_var])\n",
    "seq = Dense(1, activation='sigmoid')(seq)\n",
    "\n",
    "model = Model(seq_in, seq)\n",
    "model.compile(loss='binary_crossentropy',\n",
    "              optimizer='adam',\n",
    "              metrics=['accuracy'])\n",
    "\n",
    "model.fit(x_train, y_train,\n",
    "          batch_size=batch_size,\n",
    "          epochs=epochs,\n",
    "validation_data=(x_test, y_test))\n",
    "\"\"\"\n",
    "# 去掉VIB后的模型\n",
    "seq_in = Input(shape=(maxlen,))\n",
    "seq = seq_in\n",
    "seq = Embedding(max_features, embedding_dims)(seq)\n",
    "seq = Conv1D(filters,\n",
    "             kernel_size,\n",
    "             padding='valid',\n",
    "             activation='relu',\n",
    "             strides=1)(seq)\n",
    "seq = GlobalMaxPooling1D()(seq)\n",
    "seq = Dense(128, activation='relu')(seq)\n",
    "seq = Dense(1, activation='sigmoid')(seq)\n",
    "model = Model(seq_in, seq)\n",
    "model.compile(loss='binary_crossentropy',\n",
    "              optimizer='adam',\n",
    "              metrics=['accuracy'])\n",
    "model.fit(x_train, y_train,\n",
    "          batch_size=batch_size,\n",
    "          epochs=epochs,\n",
    "          validation_data=(x_test, y_test))\n",
    "\"\"\""
   ]
  },
  {
   "cell_type": "code",
   "execution_count": 6,
   "metadata": {},
   "outputs": [
    {
     "name": "stdout",
     "output_type": "stream",
     "text": [
      "(60000, 28, 28)\n",
      "(60000,)\n",
      "5923\n",
      "6742\n",
      "(5923, 784)\n",
      "(6742, 784)\n"
     ]
    }
   ],
   "source": [
    "(x_train, y_train), (x_test, y_test) = mnist.load_data()\n",
    "print(x_train.shape)\n",
    "print(y_train.shape)\n",
    "label0idx = [idx for idx in range(y_train.shape[0]) if y_train[idx]==0]\n",
    "label1idx = [idx for idx in range(y_train.shape[0]) if y_train[idx]==1]\n",
    "print(len(label0idx))\n",
    "print(len(label1idx))\n",
    "x_0 = x_train[label0idx]/255\n",
    "x_0 = x_0.reshape(x_0.shape[0], -1)\n",
    "x_0 = np.random.randn(*x_0.shape)\n",
    "x_1 = x_train[label1idx]/255\n",
    "x_1 = x_1.reshape(x_1.shape[0], -1)\n",
    "print(x_0.shape)\n",
    "print(x_1.shape)\n",
    "\n",
    "img_dim = 784\n",
    "img_sz = 28"
   ]
  },
  {
   "cell_type": "code",
   "execution_count": 9,
   "metadata": {},
   "outputs": [],
   "source": [
    "class Shuffle(Layer):\n",
    "    \"\"\"打乱层，提供两种方式打乱输入维度\n",
    "    一种是直接反转，一种是随机打乱，默认是直接反转维度\n",
    "    \"\"\"\n",
    "    def __init__(self, idxs=None, mode='reverse', **kwargs):\n",
    "        super(Shuffle, self).__init__(**kwargs)\n",
    "        self.idxs = idxs\n",
    "        self.mode = mode\n",
    "    def call(self, inputs):\n",
    "        v_dim = K.int_shape(inputs)[-1]\n",
    "        if self.idxs == None:\n",
    "            self.idxs = list(range(v_dim))\n",
    "            if self.mode == 'reverse':\n",
    "                self.idxs = self.idxs[::-1]\n",
    "            elif self.mode == 'random':\n",
    "                np.random.shuffle(self.idxs)\n",
    "        inputs = K.transpose(inputs)\n",
    "        outputs = K.gather(inputs, self.idxs)\n",
    "        outputs = K.transpose(outputs)\n",
    "        return outputs\n",
    "    def inverse(self):\n",
    "        v_dim = len(self.idxs)\n",
    "        _ = sorted(zip(range(v_dim), self.idxs), key=lambda s: s[1])\n",
    "        reverse_idxs = [i[0] for i in _]\n",
    "        return Shuffle(reverse_idxs)\n",
    "\n",
    "\n",
    "class SplitVector(Layer):\n",
    "    \"\"\"将输入分区为两部分，交错分区\n",
    "    \"\"\"\n",
    "    def __init__(self, **kwargs):\n",
    "        super(SplitVector, self).__init__(**kwargs)\n",
    "    def call(self, inputs):\n",
    "        v_dim = K.int_shape(inputs)[-1]\n",
    "        inputs = K.reshape(inputs, (-1, v_dim//2, 2))\n",
    "        return [inputs[:,:,0], inputs[:,:,1]]\n",
    "    def compute_output_shape(self, input_shape):\n",
    "        v_dim = input_shape[-1]\n",
    "        return [(None, v_dim//2), (None, v_dim//2)]\n",
    "    def inverse(self):\n",
    "        layer = ConcatVector()\n",
    "        return layer\n",
    "\n",
    "\n",
    "class ConcatVector(Layer):\n",
    "    \"\"\"将分区的两部分重新合并\n",
    "    \"\"\"\n",
    "    def __init__(self, **kwargs):\n",
    "        super(ConcatVector, self).__init__(**kwargs)\n",
    "    def call(self, inputs):\n",
    "        inputs = [K.expand_dims(i, 2) for i in inputs]\n",
    "        inputs = K.concatenate(inputs, 2)\n",
    "        return K.reshape(inputs, (-1, np.prod(K.int_shape(inputs)[1:])))\n",
    "    def compute_output_shape(self, input_shape):\n",
    "        return (None, sum([i[-1] for i in input_shape]))\n",
    "    def inverse(self):\n",
    "        layer = SplitVector()\n",
    "        return layer\n",
    "\n",
    "\n",
    "class AddCouple(Layer):\n",
    "    \"\"\"加性耦合层\n",
    "    \"\"\"\n",
    "    def __init__(self, isinverse=False, **kwargs):\n",
    "        self.isinverse = isinverse\n",
    "        super(AddCouple, self).__init__(**kwargs)\n",
    "    def call(self, inputs):\n",
    "        part1, part2, mpart1 = inputs\n",
    "        if self.isinverse:\n",
    "            return [part1, part2 + mpart1] # 逆为加\n",
    "        else:\n",
    "            return [part1, part2 - mpart1] # 正为减\n",
    "    def compute_output_shape(self, input_shape):\n",
    "        return [input_shape[0], input_shape[1]]\n",
    "    def inverse(self):\n",
    "        layer = AddCouple(True)\n",
    "        return layer\n",
    "\n",
    "\n",
    "class Scale(Layer):\n",
    "    \"\"\"尺度变换层\n",
    "    \"\"\"\n",
    "    def __init__(self, **kwargs):\n",
    "        super(Scale, self).__init__(**kwargs)\n",
    "    def build(self, input_shape):\n",
    "        self.kernel = self.add_weight(name='kernel', \n",
    "                                      shape=(1, input_shape[1]),\n",
    "                                      initializer='glorot_normal',\n",
    "                                      trainable=True)\n",
    "        super(Scale, self).build(input_shape)\n",
    "    def call(self, inputs):\n",
    "        self.add_loss(-K.sum(self.kernel)) # 对数行列式\n",
    "        return K.exp(self.kernel) * inputs\n",
    "    def inverse(self):\n",
    "        scale = K.exp(-self.kernel)\n",
    "        return Lambda(lambda x: scale * x)\n",
    "\n",
    "\n",
    "def build_basic_model(v_dim):\n",
    "    \"\"\"基础模型，即加性耦合层中的m\n",
    "    \"\"\"\n",
    "    _in = Input(shape=(v_dim,))\n",
    "    _ = _in\n",
    "    for i in range(5):\n",
    "        _ = Dense(1000, activation='relu')(_)\n",
    "    _ = Dense(v_dim, activation='relu')(_)\n",
    "    return Model(_in, _)\n",
    "\n",
    "def build_nice_model():\n",
    "    shuffle1 = Shuffle()\n",
    "    shuffle2 = Shuffle()\n",
    "    shuffle3 = Shuffle()\n",
    "    shuffle4 = Shuffle()\n",
    "\n",
    "    split = SplitVector()\n",
    "    couple = AddCouple()\n",
    "    concat = ConcatVector()\n",
    "    scale = Scale()\n",
    "\n",
    "    basic_model_1 = build_basic_model(img_dim//2)\n",
    "    basic_model_2 = build_basic_model(img_dim//2)\n",
    "    basic_model_3 = build_basic_model(img_dim//2)\n",
    "    basic_model_4 = build_basic_model(img_dim//2)\n",
    "\n",
    "\n",
    "    x_in = Input(shape=(img_dim,))\n",
    "    x = x_in\n",
    "\n",
    "    x = shuffle1(x)\n",
    "    x1,x2 = split(x)\n",
    "    mx1 = basic_model_1(x1)\n",
    "    x1, x2 = couple([x1, x2, mx1])\n",
    "    x = concat([x1, x2])\n",
    "\n",
    "    x = shuffle2(x)\n",
    "    x1,x2 = split(x)\n",
    "    mx1 = basic_model_2(x1)\n",
    "    x1, x2 = couple([x1, x2, mx1])\n",
    "    x = concat([x1, x2])\n",
    "\n",
    "    x = shuffle3(x)\n",
    "    x1,x2 = split(x)\n",
    "    mx1 = basic_model_3(x1)\n",
    "    x1, x2 = couple([x1, x2, mx1])\n",
    "    x = concat([x1, x2])\n",
    "\n",
    "    x = shuffle4(x)\n",
    "    x1,x2 = split(x)\n",
    "    mx1 = basic_model_4(x1)\n",
    "    x1, x2 = couple([x1, x2, mx1])\n",
    "    x = concat([x1, x2])\n",
    "\n",
    "    x = Activation('sigmoid')(x)\n",
    "\n",
    "    model = Model(x_in, x)\n",
    "    return model"
   ]
  },
  {
   "cell_type": "code",
   "execution_count": 10,
   "metadata": {},
   "outputs": [
    {
     "name": "stdout",
     "output_type": "stream",
     "text": [
      "__________________________________________________________________________________________________\n",
      "Layer (type)                    Output Shape         Param #     Connected to                     \n",
      "==================================================================================================\n",
      "input_25 (InputLayer)           (None, 784)          0                                            \n",
      "__________________________________________________________________________________________________\n",
      "shuffle_9 (Shuffle)             (None, 784)          0           input_25[0][0]                   \n",
      "__________________________________________________________________________________________________\n",
      "split_vector_3 (SplitVector)    [(None, 392), (None, 0           shuffle_9[0][0]                  \n",
      "                                                                 shuffle_10[0][0]                 \n",
      "                                                                 shuffle_11[0][0]                 \n",
      "                                                                 shuffle_12[0][0]                 \n",
      "__________________________________________________________________________________________________\n",
      "model_17 (Model)                (None, 392)          4789392     split_vector_3[0][0]             \n",
      "__________________________________________________________________________________________________\n",
      "add_couple_3 (AddCouple)        [(None, 392), (None, 0           split_vector_3[0][0]             \n",
      "                                                                 split_vector_3[0][1]             \n",
      "                                                                 model_17[1][0]                   \n",
      "                                                                 split_vector_3[1][0]             \n",
      "                                                                 split_vector_3[1][1]             \n",
      "                                                                 model_18[1][0]                   \n",
      "                                                                 split_vector_3[2][0]             \n",
      "                                                                 split_vector_3[2][1]             \n",
      "                                                                 model_19[1][0]                   \n",
      "                                                                 split_vector_3[3][0]             \n",
      "                                                                 split_vector_3[3][1]             \n",
      "                                                                 model_20[1][0]                   \n",
      "__________________________________________________________________________________________________\n",
      "concat_vector_3 (ConcatVector)  (None, 784)          0           add_couple_3[0][0]               \n",
      "                                                                 add_couple_3[0][1]               \n",
      "                                                                 add_couple_3[1][0]               \n",
      "                                                                 add_couple_3[1][1]               \n",
      "                                                                 add_couple_3[2][0]               \n",
      "                                                                 add_couple_3[2][1]               \n",
      "                                                                 add_couple_3[3][0]               \n",
      "                                                                 add_couple_3[3][1]               \n",
      "__________________________________________________________________________________________________\n",
      "shuffle_10 (Shuffle)            (None, 784)          0           concat_vector_3[0][0]            \n",
      "__________________________________________________________________________________________________\n",
      "model_18 (Model)                (None, 392)          4789392     split_vector_3[1][0]             \n",
      "__________________________________________________________________________________________________\n",
      "shuffle_11 (Shuffle)            (None, 784)          0           concat_vector_3[1][0]            \n",
      "__________________________________________________________________________________________________\n",
      "model_19 (Model)                (None, 392)          4789392     split_vector_3[2][0]             \n",
      "__________________________________________________________________________________________________\n",
      "shuffle_12 (Shuffle)            (None, 784)          0           concat_vector_3[2][0]            \n",
      "__________________________________________________________________________________________________\n",
      "model_20 (Model)                (None, 392)          4789392     split_vector_3[3][0]             \n",
      "__________________________________________________________________________________________________\n",
      "activation_1 (Activation)       (None, 784)          0           concat_vector_3[3][0]            \n",
      "==================================================================================================\n",
      "Total params: 19,157,568\n",
      "Trainable params: 19,157,568\n",
      "Non-trainable params: 0\n",
      "__________________________________________________________________________________________________\n"
     ]
    },
    {
     "name": "stderr",
     "output_type": "stream",
     "text": [
      "/share/nanlh/work/pprli/pprli_env/lib/python3.6/site-packages/keras/engine/training.py:490: UserWarning: Discrepancy between trainable weights and collected trainable weights, did you set `model.trainable` without calling `model.compile` after ?\n",
      "  'Discrepancy between trainable weights and collected trainable'\n",
      "/share/nanlh/work/pprli/pprli_env/lib/python3.6/site-packages/tensorflow/python/ops/gradients_impl.py:108: UserWarning: Converting sparse IndexedSlices to a dense Tensor of unknown shape. This may consume a large amount of memory.\n",
      "  \"Converting sparse IndexedSlices to a dense Tensor of unknown shape. \"\n"
     ]
    },
    {
     "name": "stdout",
     "output_type": "stream",
     "text": [
      "g_loss = 2.9287095069885254 d_loss = -1.3750810623168945\n"
     ]
    },
    {
     "name": "stderr",
     "output_type": "stream",
     "text": [
      "WARNING:root:Lossy conversion from float64 to uint8. Range [-4.1225202458132895, 4.254662986146489]. Convert image to uint8 prior to saving to suppress this warning.\n"
     ]
    },
    {
     "name": "stdout",
     "output_type": "stream",
     "text": [
      "g_loss = 1.5264897346496582 d_loss = -0.7147051692008972\n",
      "g_loss = 1.3957486152648926 d_loss = -0.6951966881752014\n",
      "g_loss = 1.3291044235229492 d_loss = -0.6926892399787903\n",
      "g_loss = 1.3832979202270508 d_loss = -0.6755393743515015\n",
      "g_loss = 1.3556251525878906 d_loss = -0.6820212602615356\n",
      "g_loss = 1.332237720489502 d_loss = -0.6852498054504395\n",
      "g_loss = 1.3584277629852295 d_loss = -0.6849483251571655\n",
      "g_loss = 1.3455818891525269 d_loss = -0.6884958148002625\n",
      "g_loss = 1.3637800216674805 d_loss = -0.6788007020950317\n"
     ]
    },
    {
     "name": "stderr",
     "output_type": "stream",
     "text": [
      "WARNING:root:Lossy conversion from float64 to uint8. Range [-3.7484459815949966, 4.115943979823796]. Convert image to uint8 prior to saving to suppress this warning.\n"
     ]
    },
    {
     "name": "stdout",
     "output_type": "stream",
     "text": [
      "g_loss = 1.3372381925582886 d_loss = -0.6793755292892456\n",
      "g_loss = 1.2349694967269897 d_loss = -0.6761980056762695\n",
      "g_loss = 1.3727487325668335 d_loss = -0.6762375831604004\n",
      "g_loss = 1.3082460165023804 d_loss = -0.6974611878395081\n",
      "g_loss = 1.3749237060546875 d_loss = -0.6819202899932861\n",
      "g_loss = 1.272760272026062 d_loss = -0.6750117540359497\n",
      "g_loss = 1.2214986085891724 d_loss = -0.6884100437164307\n",
      "g_loss = 1.3313957452774048 d_loss = -0.6765607595443726\n",
      "g_loss = 1.3495017290115356 d_loss = -0.6759544610977173\n",
      "g_loss = 1.331747055053711 d_loss = -0.6789999008178711\n"
     ]
    },
    {
     "name": "stderr",
     "output_type": "stream",
     "text": [
      "WARNING:root:Lossy conversion from float64 to uint8. Range [-4.353227576129053, 4.3038355102512424]. Convert image to uint8 prior to saving to suppress this warning.\n"
     ]
    },
    {
     "name": "stdout",
     "output_type": "stream",
     "text": [
      "g_loss = 1.3488467931747437 d_loss = -0.67426997423172\n",
      "g_loss = 1.336978793144226 d_loss = -0.6740479469299316\n",
      "g_loss = 1.3153822422027588 d_loss = -0.6830899715423584\n",
      "g_loss = 1.3393616676330566 d_loss = -0.6804535984992981\n",
      "g_loss = 1.3597570657730103 d_loss = -0.6559176445007324\n",
      "g_loss = 1.349926471710205 d_loss = -0.6673134565353394\n",
      "g_loss = 1.3294728994369507 d_loss = -0.6753408312797546\n",
      "g_loss = 1.3511736392974854 d_loss = -0.6697914600372314\n",
      "g_loss = 1.3512462377548218 d_loss = -0.6636971235275269\n",
      "g_loss = 1.3111387491226196 d_loss = -0.6793695092201233\n"
     ]
    },
    {
     "name": "stderr",
     "output_type": "stream",
     "text": [
      "WARNING:root:Lossy conversion from float64 to uint8. Range [-3.903914508993464, 4.001082017233735]. Convert image to uint8 prior to saving to suppress this warning.\n"
     ]
    },
    {
     "name": "stdout",
     "output_type": "stream",
     "text": [
      "g_loss = 1.3574782609939575 d_loss = -0.6612664461135864\n",
      "g_loss = 1.3331609964370728 d_loss = -0.6642721891403198\n",
      "g_loss = 1.2999392747879028 d_loss = -0.6796621680259705\n",
      "g_loss = 1.3360371589660645 d_loss = -0.668929934501648\n",
      "g_loss = 1.3042508363723755 d_loss = -0.670717716217041\n",
      "g_loss = 1.342594861984253 d_loss = -0.660997748374939\n",
      "g_loss = 1.3500680923461914 d_loss = -0.6621966361999512\n",
      "g_loss = 1.3254237174987793 d_loss = -0.6599392890930176\n",
      "g_loss = 1.345885157585144 d_loss = -0.6528600454330444\n",
      "g_loss = 1.2980152368545532 d_loss = -0.677628219127655\n"
     ]
    },
    {
     "name": "stderr",
     "output_type": "stream",
     "text": [
      "WARNING:root:Lossy conversion from float64 to uint8. Range [-4.459853834453753, 4.737195177824843]. Convert image to uint8 prior to saving to suppress this warning.\n"
     ]
    },
    {
     "name": "stdout",
     "output_type": "stream",
     "text": [
      "g_loss = 1.297421932220459 d_loss = -0.6723846197128296\n",
      "g_loss = 1.320995569229126 d_loss = -0.6683986783027649\n",
      "g_loss = 1.2874219417572021 d_loss = -0.6647123098373413\n",
      "g_loss = 1.3379358053207397 d_loss = -0.6590415835380554\n",
      "g_loss = 1.2683725357055664 d_loss = -0.6702470779418945\n",
      "g_loss = 1.0773650407791138 d_loss = -0.6265072822570801\n",
      "g_loss = 1.0861566066741943 d_loss = -0.5897349119186401\n",
      "g_loss = 1.2176018953323364 d_loss = -0.6150039434432983\n",
      "g_loss = 1.252516746520996 d_loss = -0.6175376176834106\n",
      "g_loss = 1.2311820983886719 d_loss = -0.6086375117301941\n"
     ]
    },
    {
     "name": "stderr",
     "output_type": "stream",
     "text": [
      "WARNING:root:Lossy conversion from float64 to uint8. Range [-4.129315958009283, 4.212221057351979]. Convert image to uint8 prior to saving to suppress this warning.\n"
     ]
    },
    {
     "name": "stdout",
     "output_type": "stream",
     "text": [
      "g_loss = 1.2347352504730225 d_loss = -0.61311936378479\n",
      "g_loss = 1.179480791091919 d_loss = -0.6345129013061523\n",
      "g_loss = 1.2578282356262207 d_loss = -0.6260448694229126\n",
      "g_loss = 1.2398383617401123 d_loss = -0.6267210841178894\n",
      "g_loss = 1.2448831796646118 d_loss = -0.6232829093933105\n",
      "g_loss = 1.3082709312438965 d_loss = -0.64751136302948\n",
      "g_loss = 1.2496247291564941 d_loss = -0.6277688145637512\n",
      "g_loss = 1.273413062095642 d_loss = -0.6230579614639282\n",
      "g_loss = 1.2757775783538818 d_loss = -0.6258690357208252\n",
      "g_loss = 1.3062940835952759 d_loss = -0.647334635257721\n"
     ]
    },
    {
     "name": "stderr",
     "output_type": "stream",
     "text": [
      "WARNING:root:Lossy conversion from float64 to uint8. Range [-4.3933218614206835, 4.616654788591791]. Convert image to uint8 prior to saving to suppress this warning.\n"
     ]
    },
    {
     "name": "stdout",
     "output_type": "stream",
     "text": [
      "g_loss = 1.2686614990234375 d_loss = -0.635688304901123\n",
      "g_loss = 1.2536630630493164 d_loss = -0.609488844871521\n",
      "g_loss = 1.274993896484375 d_loss = -0.6430003046989441\n",
      "g_loss = 1.2899863719940186 d_loss = -0.6297726631164551\n",
      "g_loss = 1.2624928951263428 d_loss = -0.6435997486114502\n",
      "g_loss = 1.2692850828170776 d_loss = -0.647202730178833\n",
      "g_loss = 1.2470977306365967 d_loss = -0.6261226534843445\n",
      "g_loss = 1.290628433227539 d_loss = -0.641636073589325\n",
      "g_loss = 1.2803456783294678 d_loss = -0.6305495500564575\n",
      "g_loss = 1.2736361026763916 d_loss = -0.6310341954231262\n"
     ]
    },
    {
     "name": "stderr",
     "output_type": "stream",
     "text": [
      "WARNING:root:Lossy conversion from float64 to uint8. Range [-4.095896011644501, 3.931447258052209]. Convert image to uint8 prior to saving to suppress this warning.\n"
     ]
    },
    {
     "name": "stdout",
     "output_type": "stream",
     "text": [
      "g_loss = 1.282982587814331 d_loss = -0.641545295715332\n",
      "g_loss = 1.257055640220642 d_loss = -0.6400201320648193\n",
      "g_loss = 1.2694424390792847 d_loss = -0.6292880773544312\n",
      "g_loss = 1.2701793909072876 d_loss = -0.6414036750793457\n",
      "g_loss = 1.2626696825027466 d_loss = -0.6326355338096619\n",
      "g_loss = 1.2905808687210083 d_loss = -0.6307535767555237\n",
      "g_loss = 1.2604061365127563 d_loss = -0.6443729400634766\n",
      "g_loss = 1.2721846103668213 d_loss = -0.6404314041137695\n",
      "g_loss = 1.3173612356185913 d_loss = -0.6428520679473877\n",
      "g_loss = 1.3034358024597168 d_loss = -0.6353884935379028\n"
     ]
    },
    {
     "name": "stderr",
     "output_type": "stream",
     "text": [
      "WARNING:root:Lossy conversion from float64 to uint8. Range [-3.769989798341983, 4.333772722596817]. Convert image to uint8 prior to saving to suppress this warning.\n"
     ]
    },
    {
     "name": "stdout",
     "output_type": "stream",
     "text": [
      "g_loss = 1.2890204191207886 d_loss = -0.6580755114555359\n",
      "g_loss = 1.3080496788024902 d_loss = -0.6407492160797119\n",
      "g_loss = 1.2942698001861572 d_loss = -0.641219973564148\n",
      "g_loss = 1.2706799507141113 d_loss = -0.6470352411270142\n",
      "g_loss = 1.2819645404815674 d_loss = -0.6384471654891968\n",
      "g_loss = 1.2966063022613525 d_loss = -0.6538064479827881\n",
      "g_loss = 1.3263596296310425 d_loss = -0.6525589227676392\n",
      "g_loss = 1.2736060619354248 d_loss = -0.6198716163635254\n",
      "g_loss = 1.3100837469100952 d_loss = -0.6432206034660339\n",
      "g_loss = 1.2843455076217651 d_loss = -0.6219491958618164\n"
     ]
    },
    {
     "name": "stderr",
     "output_type": "stream",
     "text": [
      "WARNING:root:Lossy conversion from float64 to uint8. Range [-4.926257019876742, 4.671025889579936]. Convert image to uint8 prior to saving to suppress this warning.\n"
     ]
    },
    {
     "name": "stdout",
     "output_type": "stream",
     "text": [
      "g_loss = 1.3381807804107666 d_loss = -0.6649125814437866\n",
      "g_loss = 1.2911319732666016 d_loss = -0.641609787940979\n",
      "g_loss = 1.2967188358306885 d_loss = -0.6498867273330688\n",
      "g_loss = 1.2925913333892822 d_loss = -0.6451486349105835\n",
      "g_loss = 1.2595820426940918 d_loss = -0.638159453868866\n",
      "g_loss = 1.3197928667068481 d_loss = -0.6606767773628235\n",
      "g_loss = 1.3206050395965576 d_loss = -0.6480671167373657\n",
      "g_loss = 1.285036563873291 d_loss = -0.6375305652618408\n",
      "g_loss = 1.2706658840179443 d_loss = -0.6235308051109314\n",
      "g_loss = 1.2885856628417969 d_loss = -0.6479023694992065\n"
     ]
    },
    {
     "name": "stderr",
     "output_type": "stream",
     "text": [
      "WARNING:root:Lossy conversion from float64 to uint8. Range [-4.053732521171647, 4.223947609306916]. Convert image to uint8 prior to saving to suppress this warning.\n"
     ]
    },
    {
     "name": "stdout",
     "output_type": "stream",
     "text": [
      "g_loss = 1.2964059114456177 d_loss = -0.6486634612083435\n",
      "g_loss = 1.2886788845062256 d_loss = -0.6507003307342529\n",
      "g_loss = 1.3104476928710938 d_loss = -0.6433423161506653\n",
      "g_loss = 1.295689582824707 d_loss = -0.6471447944641113\n",
      "g_loss = 1.287013053894043 d_loss = -0.6370701193809509\n",
      "g_loss = 1.3105196952819824 d_loss = -0.6572655439376831\n",
      "g_loss = 1.2539445161819458 d_loss = -0.6366719007492065\n",
      "g_loss = 1.2684662342071533 d_loss = -0.6433935165405273\n",
      "g_loss = 1.2588727474212646 d_loss = -0.6317841410636902\n",
      "g_loss = 1.2859139442443848 d_loss = -0.6436543464660645\n"
     ]
    },
    {
     "name": "stderr",
     "output_type": "stream",
     "text": [
      "WARNING:root:Lossy conversion from float64 to uint8. Range [-3.9291994037541813, 4.551859682409644]. Convert image to uint8 prior to saving to suppress this warning.\n"
     ]
    },
    {
     "name": "stdout",
     "output_type": "stream",
     "text": [
      "g_loss = 1.331951379776001 d_loss = -0.6541013717651367\n",
      "g_loss = 1.3029208183288574 d_loss = -0.6435232758522034\n",
      "g_loss = 1.2950950860977173 d_loss = -0.6493108868598938\n",
      "g_loss = 1.2818882465362549 d_loss = -0.6485918760299683\n",
      "g_loss = 1.2613551616668701 d_loss = -0.6263924837112427\n",
      "g_loss = 1.301138162612915 d_loss = -0.6453239917755127\n",
      "g_loss = 1.2762277126312256 d_loss = -0.6392611265182495\n",
      "g_loss = 1.281114101409912 d_loss = -0.637778639793396\n",
      "g_loss = 1.289530873298645 d_loss = -0.6565072536468506\n",
      "g_loss = 1.2560808658599854 d_loss = -0.637957751750946\n"
     ]
    },
    {
     "name": "stderr",
     "output_type": "stream",
     "text": [
      "WARNING:root:Lossy conversion from float64 to uint8. Range [-4.39342890561846, 4.434944313409358]. Convert image to uint8 prior to saving to suppress this warning.\n"
     ]
    },
    {
     "name": "stdout",
     "output_type": "stream",
     "text": [
      "g_loss = 1.3025891780853271 d_loss = -0.6478413343429565\n",
      "g_loss = 1.2915377616882324 d_loss = -0.6472102403640747\n",
      "g_loss = 1.2609868049621582 d_loss = -0.6358539462089539\n",
      "g_loss = 1.303791880607605 d_loss = -0.6486826539039612\n",
      "g_loss = 1.275512933731079 d_loss = -0.628325343132019\n",
      "g_loss = 1.2924396991729736 d_loss = -0.6401979923248291\n",
      "g_loss = 1.2828277349472046 d_loss = -0.6527838110923767\n",
      "g_loss = 1.282146692276001 d_loss = -0.6355899572372437\n",
      "g_loss = 1.2844085693359375 d_loss = -0.6413490772247314\n",
      "g_loss = 1.2606775760650635 d_loss = -0.6228147149085999\n"
     ]
    },
    {
     "name": "stderr",
     "output_type": "stream",
     "text": [
      "WARNING:root:Lossy conversion from float64 to uint8. Range [-4.423884208563968, 3.917602148033179]. Convert image to uint8 prior to saving to suppress this warning.\n"
     ]
    },
    {
     "name": "stdout",
     "output_type": "stream",
     "text": [
      "g_loss = 1.284742832183838 d_loss = -0.6480746269226074\n",
      "g_loss = 1.3146591186523438 d_loss = -0.6517589092254639\n",
      "g_loss = 1.2860045433044434 d_loss = -0.6426330208778381\n",
      "g_loss = 1.3210153579711914 d_loss = -0.6626747250556946\n",
      "g_loss = 1.2895233631134033 d_loss = -0.6461315155029297\n",
      "g_loss = 1.2760875225067139 d_loss = -0.6305586099624634\n",
      "g_loss = 1.2937638759613037 d_loss = -0.6477895975112915\n",
      "g_loss = 1.2758272886276245 d_loss = -0.6418638229370117\n",
      "g_loss = 1.2936413288116455 d_loss = -0.6447011232376099\n",
      "g_loss = 1.3246299028396606 d_loss = -0.6595103740692139\n"
     ]
    },
    {
     "name": "stderr",
     "output_type": "stream",
     "text": [
      "WARNING:root:Lossy conversion from float64 to uint8. Range [-4.349699061431926, 4.025722385731159]. Convert image to uint8 prior to saving to suppress this warning.\n"
     ]
    },
    {
     "name": "stdout",
     "output_type": "stream",
     "text": [
      "g_loss = 1.277134895324707 d_loss = -0.6346644163131714\n",
      "g_loss = 1.291938066482544 d_loss = -0.6492353081703186\n",
      "g_loss = 1.3078811168670654 d_loss = -0.6543480753898621\n",
      "g_loss = 1.3241705894470215 d_loss = -0.6550020575523376\n",
      "g_loss = 1.2440388202667236 d_loss = -0.6279174089431763\n",
      "g_loss = 1.3225066661834717 d_loss = -0.6591097116470337\n",
      "g_loss = 1.2650742530822754 d_loss = -0.6328223347663879\n",
      "g_loss = 1.307517409324646 d_loss = -0.6479512453079224\n",
      "g_loss = 1.2871551513671875 d_loss = -0.6423641443252563\n",
      "g_loss = 1.2808645963668823 d_loss = -0.6410822868347168\n"
     ]
    },
    {
     "name": "stderr",
     "output_type": "stream",
     "text": [
      "WARNING:root:Lossy conversion from float64 to uint8. Range [-4.3847698418065875, 4.249833549342358]. Convert image to uint8 prior to saving to suppress this warning.\n"
     ]
    },
    {
     "name": "stdout",
     "output_type": "stream",
     "text": [
      "g_loss = 1.288002610206604 d_loss = -0.6428942084312439\n",
      "g_loss = 1.276975393295288 d_loss = -0.638009786605835\n",
      "g_loss = 1.311159372329712 d_loss = -0.6551074981689453\n",
      "g_loss = 1.243019461631775 d_loss = -0.6244982481002808\n",
      "g_loss = 1.277437686920166 d_loss = -0.627717137336731\n",
      "g_loss = 1.2646360397338867 d_loss = -0.6391557455062866\n",
      "g_loss = 1.282353162765503 d_loss = -0.6374201774597168\n",
      "g_loss = 1.2976479530334473 d_loss = -0.6419280767440796\n",
      "g_loss = 1.3259527683258057 d_loss = -0.6588374376296997\n",
      "g_loss = 1.2795679569244385 d_loss = -0.6364880800247192\n"
     ]
    },
    {
     "name": "stderr",
     "output_type": "stream",
     "text": [
      "WARNING:root:Lossy conversion from float64 to uint8. Range [-4.019138865575755, 4.28453392510337]. Convert image to uint8 prior to saving to suppress this warning.\n"
     ]
    },
    {
     "name": "stdout",
     "output_type": "stream",
     "text": [
      "g_loss = 1.2931147813796997 d_loss = -0.6525779962539673\n",
      "g_loss = 1.2902007102966309 d_loss = -0.6421515941619873\n",
      "g_loss = 1.289626955986023 d_loss = -0.6451443433761597\n",
      "g_loss = 1.3083837032318115 d_loss = -0.6494204998016357\n",
      "g_loss = 1.266860008239746 d_loss = -0.6333203315734863\n",
      "g_loss = 1.2652387619018555 d_loss = -0.6345552206039429\n",
      "g_loss = 1.2766005992889404 d_loss = -0.6395530700683594\n",
      "g_loss = 1.3061292171478271 d_loss = -0.6515973806381226\n",
      "g_loss = 1.2910181283950806 d_loss = -0.6485602855682373\n",
      "g_loss = 1.3332912921905518 d_loss = -0.658877432346344\n"
     ]
    },
    {
     "name": "stderr",
     "output_type": "stream",
     "text": [
      "WARNING:root:Lossy conversion from float64 to uint8. Range [-4.08566446206305, 4.651672797815938]. Convert image to uint8 prior to saving to suppress this warning.\n"
     ]
    },
    {
     "name": "stdout",
     "output_type": "stream",
     "text": [
      "g_loss = 1.2699329853057861 d_loss = -0.6410323977470398\n",
      "g_loss = 1.2946454286575317 d_loss = -0.6559469699859619\n",
      "g_loss = 1.2359769344329834 d_loss = -0.6204318404197693\n",
      "g_loss = 1.299868106842041 d_loss = -0.6501280069351196\n",
      "g_loss = 1.274784803390503 d_loss = -0.641093909740448\n",
      "g_loss = 1.28524911403656 d_loss = -0.6440533399581909\n",
      "g_loss = 1.2722208499908447 d_loss = -0.644575834274292\n",
      "g_loss = 1.2580698728561401 d_loss = -0.6300313472747803\n",
      "g_loss = 1.2879245281219482 d_loss = -0.6457821130752563\n",
      "g_loss = 1.2710070610046387 d_loss = -0.6378469467163086\n"
     ]
    },
    {
     "name": "stderr",
     "output_type": "stream",
     "text": [
      "WARNING:root:Lossy conversion from float64 to uint8. Range [-4.487272063185329, 4.045717925602926]. Convert image to uint8 prior to saving to suppress this warning.\n"
     ]
    },
    {
     "name": "stdout",
     "output_type": "stream",
     "text": [
      "g_loss = 1.2768826484680176 d_loss = -0.6451077461242676\n",
      "g_loss = 1.285071611404419 d_loss = -0.6407117247581482\n",
      "g_loss = 1.2649519443511963 d_loss = -0.6325381994247437\n",
      "g_loss = 1.2703912258148193 d_loss = -0.6340163946151733\n",
      "g_loss = 1.2938913106918335 d_loss = -0.6523884534835815\n",
      "g_loss = 1.2671818733215332 d_loss = -0.6332269906997681\n",
      "g_loss = 1.2619702816009521 d_loss = -0.6363034248352051\n",
      "g_loss = 1.272946834564209 d_loss = -0.6396628022193909\n",
      "g_loss = 1.2742109298706055 d_loss = -0.6330965757369995\n",
      "g_loss = 1.2990748882293701 d_loss = -0.6433314681053162\n"
     ]
    },
    {
     "name": "stderr",
     "output_type": "stream",
     "text": [
      "WARNING:root:Lossy conversion from float64 to uint8. Range [-4.072909900562117, 4.331628944048627]. Convert image to uint8 prior to saving to suppress this warning.\n"
     ]
    },
    {
     "name": "stdout",
     "output_type": "stream",
     "text": [
      "g_loss = 1.256594181060791 d_loss = -0.6301509141921997\n",
      "g_loss = 1.2855243682861328 d_loss = -0.6432917714118958\n",
      "g_loss = 1.2791777849197388 d_loss = -0.6350048780441284\n",
      "g_loss = 1.296313762664795 d_loss = -0.6454775333404541\n",
      "g_loss = 1.2913026809692383 d_loss = -0.6446846723556519\n",
      "g_loss = 1.2857661247253418 d_loss = -0.6428161859512329\n",
      "g_loss = 1.2586193084716797 d_loss = -0.631496787071228\n",
      "g_loss = 1.3115918636322021 d_loss = -0.647216796875\n",
      "g_loss = 1.2451311349868774 d_loss = -0.6273101568222046\n",
      "g_loss = 1.2872045040130615 d_loss = -0.6400257349014282\n"
     ]
    },
    {
     "name": "stderr",
     "output_type": "stream",
     "text": [
      "WARNING:root:Lossy conversion from float64 to uint8. Range [-4.661870517646615, 4.232807882831874]. Convert image to uint8 prior to saving to suppress this warning.\n"
     ]
    },
    {
     "name": "stdout",
     "output_type": "stream",
     "text": [
      "g_loss = 1.3043694496154785 d_loss = -0.6501494646072388\n",
      "g_loss = 1.2855889797210693 d_loss = -0.6440869569778442\n",
      "g_loss = 1.275296688079834 d_loss = -0.6367282867431641\n",
      "g_loss = 1.316542387008667 d_loss = -0.6528303623199463\n",
      "g_loss = 1.3013339042663574 d_loss = -0.651146650314331\n",
      "g_loss = 1.2760587930679321 d_loss = -0.6391725540161133\n",
      "g_loss = 1.2909356355667114 d_loss = -0.6462910175323486\n",
      "g_loss = 1.3034331798553467 d_loss = -0.654096245765686\n",
      "g_loss = 1.2540819644927979 d_loss = -0.629672110080719\n",
      "g_loss = 1.2879952192306519 d_loss = -0.6405074596405029\n"
     ]
    },
    {
     "name": "stderr",
     "output_type": "stream",
     "text": [
      "WARNING:root:Lossy conversion from float64 to uint8. Range [-4.402165181130662, 4.275788800808094]. Convert image to uint8 prior to saving to suppress this warning.\n"
     ]
    },
    {
     "name": "stdout",
     "output_type": "stream",
     "text": [
      "g_loss = 1.2944400310516357 d_loss = -0.6513288617134094\n",
      "g_loss = 1.305302381515503 d_loss = -0.6492207050323486\n",
      "g_loss = 1.2899584770202637 d_loss = -0.6470426321029663\n",
      "g_loss = 1.3113653659820557 d_loss = -0.6573057174682617\n",
      "g_loss = 1.3144099712371826 d_loss = -0.651004433631897\n",
      "g_loss = 1.3216862678527832 d_loss = -0.6602169871330261\n",
      "g_loss = 1.3116629123687744 d_loss = -0.6513248682022095\n",
      "g_loss = 1.2557251453399658 d_loss = -0.6306928992271423\n",
      "g_loss = 1.2617031335830688 d_loss = -0.6367617845535278\n",
      "g_loss = 1.285372257232666 d_loss = -0.644321858882904\n"
     ]
    },
    {
     "name": "stderr",
     "output_type": "stream",
     "text": [
      "WARNING:root:Lossy conversion from float64 to uint8. Range [-3.850472780056034, 4.12904961390158]. Convert image to uint8 prior to saving to suppress this warning.\n"
     ]
    },
    {
     "name": "stdout",
     "output_type": "stream",
     "text": [
      "g_loss = 1.2610406875610352 d_loss = -0.6328949928283691\n",
      "g_loss = 1.2902240753173828 d_loss = -0.6419015526771545\n",
      "g_loss = 1.3283181190490723 d_loss = -0.6570470333099365\n",
      "g_loss = 1.31259286403656 d_loss = -0.6609805822372437\n",
      "g_loss = 1.2421419620513916 d_loss = -0.6237059831619263\n",
      "g_loss = 1.286292552947998 d_loss = -0.6471573114395142\n",
      "g_loss = 1.2517541646957397 d_loss = -0.6266471147537231\n",
      "g_loss = 1.2867168188095093 d_loss = -0.6427217721939087\n",
      "g_loss = 1.2873554229736328 d_loss = -0.6452257037162781\n",
      "g_loss = 1.2446568012237549 d_loss = -0.6284596920013428\n"
     ]
    },
    {
     "name": "stderr",
     "output_type": "stream",
     "text": [
      "WARNING:root:Lossy conversion from float64 to uint8. Range [-3.8951162936785044, 4.11192942515511]. Convert image to uint8 prior to saving to suppress this warning.\n"
     ]
    },
    {
     "name": "stdout",
     "output_type": "stream",
     "text": [
      "g_loss = 1.3342033624649048 d_loss = -0.6641702651977539\n",
      "g_loss = 1.279876947402954 d_loss = -0.6420714855194092\n",
      "g_loss = 1.2783129215240479 d_loss = -0.6358717679977417\n",
      "g_loss = 1.3121521472930908 d_loss = -0.652702271938324\n",
      "g_loss = 1.3077293634414673 d_loss = -0.6523672938346863\n",
      "g_loss = 1.280876636505127 d_loss = -0.6435295343399048\n",
      "g_loss = 1.301529049873352 d_loss = -0.6479663848876953\n",
      "g_loss = 1.2809382677078247 d_loss = -0.6390899419784546\n",
      "g_loss = 1.306585669517517 d_loss = -0.653425395488739\n",
      "g_loss = 1.2734044790267944 d_loss = -0.6399718523025513\n"
     ]
    },
    {
     "name": "stderr",
     "output_type": "stream",
     "text": [
      "WARNING:root:Lossy conversion from float64 to uint8. Range [-4.545945393048616, 4.737195177824843]. Convert image to uint8 prior to saving to suppress this warning.\n"
     ]
    },
    {
     "name": "stdout",
     "output_type": "stream",
     "text": [
      "g_loss = 1.2897052764892578 d_loss = -0.6460742950439453\n",
      "g_loss = 1.2492907047271729 d_loss = -0.6256741285324097\n",
      "g_loss = 1.2664345502853394 d_loss = -0.637664258480072\n",
      "g_loss = 1.2408603429794312 d_loss = -0.6236165761947632\n",
      "g_loss = 1.2879035472869873 d_loss = -0.6384618282318115\n",
      "g_loss = 1.2888351678848267 d_loss = -0.6438791751861572\n",
      "g_loss = 1.2792259454727173 d_loss = -0.6415380239486694\n",
      "g_loss = 1.2991390228271484 d_loss = -0.6408511400222778\n",
      "g_loss = 1.303642988204956 d_loss = -0.6454926133155823\n",
      "g_loss = 1.2615416049957275 d_loss = -0.6347237825393677\n"
     ]
    },
    {
     "name": "stderr",
     "output_type": "stream",
     "text": [
      "WARNING:root:Lossy conversion from float64 to uint8. Range [-4.372327046902841, 4.671025889579936]. Convert image to uint8 prior to saving to suppress this warning.\n"
     ]
    },
    {
     "name": "stdout",
     "output_type": "stream",
     "text": [
      "g_loss = 1.3020702600479126 d_loss = -0.6500852108001709\n",
      "g_loss = 1.2914384603500366 d_loss = -0.6454048156738281\n",
      "g_loss = 1.2820615768432617 d_loss = -0.64216548204422\n",
      "g_loss = 1.289292573928833 d_loss = -0.6449877023696899\n",
      "g_loss = 1.3106980323791504 d_loss = -0.6517643928527832\n",
      "g_loss = 1.3115843534469604 d_loss = -0.6493152379989624\n",
      "g_loss = 1.31614089012146 d_loss = -0.6552902460098267\n",
      "g_loss = 1.296064019203186 d_loss = -0.649294912815094\n",
      "g_loss = 1.2650312185287476 d_loss = -0.6345056295394897\n",
      "g_loss = 1.2913446426391602 d_loss = -0.6431801319122314\n"
     ]
    },
    {
     "name": "stderr",
     "output_type": "stream",
     "text": [
      "WARNING:root:Lossy conversion from float64 to uint8. Range [-3.7471927801338656, 4.405689700292614]. Convert image to uint8 prior to saving to suppress this warning.\n"
     ]
    },
    {
     "name": "stdout",
     "output_type": "stream",
     "text": [
      "g_loss = 1.2813735008239746 d_loss = -0.6428884863853455\n",
      "g_loss = 1.3027993440628052 d_loss = -0.652380108833313\n",
      "g_loss = 1.2727224826812744 d_loss = -0.637474775314331\n",
      "g_loss = 1.2528414726257324 d_loss = -0.6288785338401794\n",
      "g_loss = 1.2713675498962402 d_loss = -0.6370022892951965\n",
      "g_loss = 1.2432599067687988 d_loss = -0.6260354518890381\n",
      "g_loss = 1.2624431848526 d_loss = -0.6365301012992859\n",
      "g_loss = 1.240355372428894 d_loss = -0.6237047910690308\n",
      "g_loss = 1.2820218801498413 d_loss = -0.6421588659286499\n",
      "g_loss = 1.2700345516204834 d_loss = -0.6370262503623962\n"
     ]
    },
    {
     "name": "stderr",
     "output_type": "stream",
     "text": [
      "WARNING:root:Lossy conversion from float64 to uint8. Range [-4.349699061431926, 3.8941332673986944]. Convert image to uint8 prior to saving to suppress this warning.\n"
     ]
    },
    {
     "name": "stdout",
     "output_type": "stream",
     "text": [
      "g_loss = 1.324690341949463 d_loss = -0.6603376865386963\n",
      "g_loss = 1.3051283359527588 d_loss = -0.6509761214256287\n",
      "g_loss = 1.2624818086624146 d_loss = -0.6335155963897705\n",
      "g_loss = 1.2766332626342773 d_loss = -0.6410980820655823\n",
      "g_loss = 1.312002182006836 d_loss = -0.6534071564674377\n",
      "g_loss = 1.3226333856582642 d_loss = -0.6591843366622925\n",
      "g_loss = 1.3085483312606812 d_loss = -0.654643177986145\n",
      "g_loss = 1.3530001640319824 d_loss = -0.6717249155044556\n",
      "g_loss = 1.3024669885635376 d_loss = -0.6496191024780273\n",
      "g_loss = 1.310473084449768 d_loss = -0.6539583206176758\n"
     ]
    },
    {
     "name": "stderr",
     "output_type": "stream",
     "text": [
      "WARNING:root:Lossy conversion from float64 to uint8. Range [-4.053889842074108, 4.178761818495145]. Convert image to uint8 prior to saving to suppress this warning.\n"
     ]
    },
    {
     "name": "stdout",
     "output_type": "stream",
     "text": [
      "g_loss = 1.3133935928344727 d_loss = -0.6554234623908997\n",
      "g_loss = 1.3067684173583984 d_loss = -0.6508339643478394\n",
      "g_loss = 1.2948904037475586 d_loss = -0.6483988165855408\n",
      "g_loss = 1.2765767574310303 d_loss = -0.6421497464179993\n",
      "g_loss = 1.3102836608886719 d_loss = -0.6535922884941101\n",
      "g_loss = 1.300756812095642 d_loss = -0.6509197950363159\n",
      "g_loss = 1.3097578287124634 d_loss = -0.6506698727607727\n",
      "g_loss = 1.2649966478347778 d_loss = -0.6351533532142639\n",
      "g_loss = 1.2706806659698486 d_loss = -0.6405043601989746\n",
      "g_loss = 1.285376787185669 d_loss = -0.6464993953704834\n"
     ]
    },
    {
     "name": "stderr",
     "output_type": "stream",
     "text": [
      "WARNING:root:Lossy conversion from float64 to uint8. Range [-4.221007803025226, 4.310634837781228]. Convert image to uint8 prior to saving to suppress this warning.\n"
     ]
    },
    {
     "name": "stdout",
     "output_type": "stream",
     "text": [
      "g_loss = 1.24844491481781 d_loss = -0.6266294121742249\n",
      "g_loss = 1.3106744289398193 d_loss = -0.6551445722579956\n",
      "g_loss = 1.3430838584899902 d_loss = -0.6721641421318054\n",
      "g_loss = 1.2595881223678589 d_loss = -0.6304988861083984\n",
      "g_loss = 1.3306502103805542 d_loss = -0.6591050624847412\n",
      "g_loss = 1.3301365375518799 d_loss = -0.663404107093811\n",
      "g_loss = 1.279064416885376 d_loss = -0.6421276330947876\n",
      "g_loss = 1.3025171756744385 d_loss = -0.6476200819015503\n",
      "g_loss = 1.3050096035003662 d_loss = -0.6542272567749023\n",
      "g_loss = 1.310766577720642 d_loss = -0.6556161642074585\n"
     ]
    },
    {
     "name": "stderr",
     "output_type": "stream",
     "text": [
      "WARNING:root:Lossy conversion from float64 to uint8. Range [-4.552534872051951, 3.9122895770246355]. Convert image to uint8 prior to saving to suppress this warning.\n"
     ]
    },
    {
     "name": "stdout",
     "output_type": "stream",
     "text": [
      "g_loss = 1.3156489133834839 d_loss = -0.6596385836601257\n",
      "g_loss = 1.2675766944885254 d_loss = -0.6355043649673462\n",
      "g_loss = 1.3321874141693115 d_loss = -0.6640616655349731\n",
      "g_loss = 1.3334370851516724 d_loss = -0.665075421333313\n",
      "g_loss = 1.2830333709716797 d_loss = -0.6506478786468506\n",
      "g_loss = 1.2800228595733643 d_loss = -0.6397584676742554\n",
      "g_loss = 1.295340895652771 d_loss = -0.6483051776885986\n",
      "g_loss = 1.3065359592437744 d_loss = -0.6504250168800354\n",
      "g_loss = 1.3148205280303955 d_loss = -0.6513798236846924\n",
      "g_loss = 1.3014081716537476 d_loss = -0.6490778923034668\n"
     ]
    },
    {
     "name": "stderr",
     "output_type": "stream",
     "text": [
      "WARNING:root:Lossy conversion from float64 to uint8. Range [-4.07199580210909, 3.99256532773364]. Convert image to uint8 prior to saving to suppress this warning.\n"
     ]
    },
    {
     "name": "stdout",
     "output_type": "stream",
     "text": [
      "g_loss = 1.2991647720336914 d_loss = -0.6496423482894897\n",
      "g_loss = 1.2760238647460938 d_loss = -0.6436553597450256\n",
      "g_loss = 1.2926843166351318 d_loss = -0.6486623287200928\n",
      "g_loss = 1.3122670650482178 d_loss = -0.6567082405090332\n",
      "g_loss = 1.2806739807128906 d_loss = -0.6436640024185181\n",
      "g_loss = 1.268484115600586 d_loss = -0.6352053880691528\n",
      "g_loss = 1.2905080318450928 d_loss = -0.647469699382782\n",
      "g_loss = 1.269565463066101 d_loss = -0.6377997398376465\n",
      "g_loss = 1.2656702995300293 d_loss = -0.6346820592880249\n",
      "g_loss = 1.309293508529663 d_loss = -0.6563560962677002\n"
     ]
    },
    {
     "name": "stderr",
     "output_type": "stream",
     "text": [
      "WARNING:root:Lossy conversion from float64 to uint8. Range [-4.0812114208586125, 4.05774087923393]. Convert image to uint8 prior to saving to suppress this warning.\n"
     ]
    },
    {
     "name": "stdout",
     "output_type": "stream",
     "text": [
      "g_loss = 1.2705698013305664 d_loss = -0.6424243450164795\n",
      "g_loss = 1.2935197353363037 d_loss = -0.642177939414978\n",
      "g_loss = 1.2974985837936401 d_loss = -0.6480770111083984\n",
      "g_loss = 1.2948822975158691 d_loss = -0.653350830078125\n",
      "g_loss = 1.3133223056793213 d_loss = -0.653791069984436\n",
      "g_loss = 1.2674412727355957 d_loss = -0.64521324634552\n",
      "g_loss = 1.2904109954833984 d_loss = -0.6451975107192993\n",
      "g_loss = 1.3253915309906006 d_loss = -0.658650815486908\n",
      "g_loss = 1.3259539604187012 d_loss = -0.6613112688064575\n",
      "g_loss = 1.317376732826233 d_loss = -0.6527159810066223\n"
     ]
    },
    {
     "name": "stderr",
     "output_type": "stream",
     "text": [
      "WARNING:root:Lossy conversion from float64 to uint8. Range [-4.372327046902841, 4.1387208751572215]. Convert image to uint8 prior to saving to suppress this warning.\n"
     ]
    },
    {
     "name": "stdout",
     "output_type": "stream",
     "text": [
      "g_loss = 1.3160157203674316 d_loss = -0.6521685123443604\n",
      "g_loss = 1.3034799098968506 d_loss = -0.6473253965377808\n",
      "g_loss = 1.2852942943572998 d_loss = -0.6440181732177734\n",
      "g_loss = 1.2696304321289062 d_loss = -0.6398282051086426\n",
      "g_loss = 1.2476725578308105 d_loss = -0.6227383613586426\n",
      "g_loss = 1.2739739418029785 d_loss = -0.6387972831726074\n",
      "g_loss = 1.3081600666046143 d_loss = -0.657243013381958\n",
      "g_loss = 1.3172264099121094 d_loss = -0.6537041664123535\n",
      "g_loss = 1.2677017450332642 d_loss = -0.6454163193702698\n",
      "g_loss = 1.3076215982437134 d_loss = -0.6527174115180969\n"
     ]
    },
    {
     "name": "stderr",
     "output_type": "stream",
     "text": [
      "WARNING:root:Lossy conversion from float64 to uint8. Range [-4.1197771599768105, 5.016191138303821]. Convert image to uint8 prior to saving to suppress this warning.\n"
     ]
    },
    {
     "name": "stdout",
     "output_type": "stream",
     "text": [
      "g_loss = 1.2227860689163208 d_loss = -0.6308546662330627\n",
      "g_loss = 1.2825921773910522 d_loss = -0.6428649425506592\n",
      "g_loss = 1.2421603202819824 d_loss = -0.6335498690605164\n",
      "g_loss = 1.27135169506073 d_loss = -0.6427303552627563\n",
      "g_loss = 1.309193730354309 d_loss = -0.6578984260559082\n",
      "g_loss = 1.2956525087356567 d_loss = -0.6465712189674377\n",
      "g_loss = 1.287994623184204 d_loss = -0.64061039686203\n",
      "g_loss = 1.2716319561004639 d_loss = -0.6480057239532471\n",
      "g_loss = 1.3034003973007202 d_loss = -0.6532199382781982\n",
      "g_loss = 1.3165709972381592 d_loss = -0.6553739309310913\n"
     ]
    },
    {
     "name": "stderr",
     "output_type": "stream",
     "text": [
      "WARNING:root:Lossy conversion from float64 to uint8. Range [-3.9760943606052015, 4.69282633758214]. Convert image to uint8 prior to saving to suppress this warning.\n"
     ]
    },
    {
     "name": "stdout",
     "output_type": "stream",
     "text": [
      "g_loss = 1.3550629615783691 d_loss = -0.6725324392318726\n",
      "g_loss = 1.3203226327896118 d_loss = -0.6570197343826294\n",
      "g_loss = 1.30642831325531 d_loss = -0.6476832628250122\n",
      "g_loss = 1.334180474281311 d_loss = -0.6622962355613708\n",
      "g_loss = 1.265160322189331 d_loss = -0.6422780156135559\n",
      "g_loss = 1.275681972503662 d_loss = -0.6375922560691833\n",
      "g_loss = 1.3093103170394897 d_loss = -0.6584967374801636\n",
      "g_loss = 1.313478708267212 d_loss = -0.6562454104423523\n",
      "g_loss = 1.3038361072540283 d_loss = -0.6506898999214172\n",
      "g_loss = 1.2562074661254883 d_loss = -0.6282017230987549\n"
     ]
    },
    {
     "name": "stderr",
     "output_type": "stream",
     "text": [
      "WARNING:root:Lossy conversion from float64 to uint8. Range [-4.139321141138463, 4.310634837781228]. Convert image to uint8 prior to saving to suppress this warning.\n"
     ]
    },
    {
     "name": "stdout",
     "output_type": "stream",
     "text": [
      "g_loss = 1.3260838985443115 d_loss = -0.6558024883270264\n",
      "g_loss = 1.2047057151794434 d_loss = -0.6114733219146729\n",
      "g_loss = 1.2699246406555176 d_loss = -0.6326812505722046\n",
      "g_loss = 1.2458025217056274 d_loss = -0.6266859769821167\n",
      "g_loss = 1.1893243789672852 d_loss = -0.6053745746612549\n",
      "g_loss = 1.2537734508514404 d_loss = -0.6305400133132935\n",
      "g_loss = 1.244307518005371 d_loss = -0.6256959438323975\n",
      "g_loss = 1.3040521144866943 d_loss = -0.6422556638717651\n",
      "g_loss = 1.2991420030593872 d_loss = -0.6445963382720947\n",
      "g_loss = 1.26708984375 d_loss = -0.6313881874084473\n"
     ]
    },
    {
     "name": "stderr",
     "output_type": "stream",
     "text": [
      "WARNING:root:Lossy conversion from float64 to uint8. Range [-4.003464379164851, 4.12904961390158]. Convert image to uint8 prior to saving to suppress this warning.\n"
     ]
    },
    {
     "name": "stdout",
     "output_type": "stream",
     "text": [
      "g_loss = 1.2928175926208496 d_loss = -0.63767409324646\n",
      "g_loss = 1.2878875732421875 d_loss = -0.6366866230964661\n",
      "g_loss = 1.2481364011764526 d_loss = -0.6262390613555908\n",
      "g_loss = 1.2445186376571655 d_loss = -0.6244553327560425\n",
      "g_loss = 1.2383434772491455 d_loss = -0.6193115711212158\n",
      "g_loss = 1.2457103729248047 d_loss = -0.6268796920776367\n",
      "g_loss = 1.2556240558624268 d_loss = -0.6268980503082275\n",
      "g_loss = 1.2924741506576538 d_loss = -0.6471414566040039\n",
      "g_loss = 1.2343549728393555 d_loss = -0.6178786754608154\n",
      "g_loss = 1.2447896003723145 d_loss = -0.6267331838607788\n"
     ]
    },
    {
     "name": "stderr",
     "output_type": "stream",
     "text": [
      "WARNING:root:Lossy conversion from float64 to uint8. Range [-4.159380593575677, 3.842209586498509]. Convert image to uint8 prior to saving to suppress this warning.\n"
     ]
    },
    {
     "name": "stdout",
     "output_type": "stream",
     "text": [
      "g_loss = 1.254408597946167 d_loss = -0.6297528743743896\n",
      "g_loss = 1.2787773609161377 d_loss = -0.6398073434829712\n",
      "g_loss = 1.1970162391662598 d_loss = -0.615444540977478\n",
      "g_loss = 1.319610595703125 d_loss = -0.6454594731330872\n",
      "g_loss = 1.2369531393051147 d_loss = -0.6256101727485657\n",
      "g_loss = 1.291360855102539 d_loss = -0.6463680267333984\n",
      "g_loss = 1.2732768058776855 d_loss = -0.6357946395874023\n",
      "g_loss = 1.2336881160736084 d_loss = -0.6226199865341187\n",
      "g_loss = 1.2363669872283936 d_loss = -0.62617427110672\n",
      "g_loss = 1.2846338748931885 d_loss = -0.6372890472412109\n"
     ]
    },
    {
     "name": "stderr",
     "output_type": "stream",
     "text": [
      "WARNING:root:Lossy conversion from float64 to uint8. Range [-4.028997297775173, 4.12904961390158]. Convert image to uint8 prior to saving to suppress this warning.\n"
     ]
    },
    {
     "name": "stdout",
     "output_type": "stream",
     "text": [
      "g_loss = 1.234851598739624 d_loss = -0.6295117139816284\n",
      "g_loss = 1.2231714725494385 d_loss = -0.6236616373062134\n",
      "g_loss = 1.226936936378479 d_loss = -0.617815375328064\n",
      "g_loss = 1.2981529235839844 d_loss = -0.6377905607223511\n",
      "g_loss = 1.290243148803711 d_loss = -0.6394562721252441\n",
      "g_loss = 1.219564437866211 d_loss = -0.6206216812133789\n",
      "g_loss = 1.2473779916763306 d_loss = -0.6246891021728516\n",
      "g_loss = 1.2831186056137085 d_loss = -0.6366638541221619\n",
      "g_loss = 1.3222410678863525 d_loss = -0.6445385217666626\n",
      "g_loss = 1.2635588645935059 d_loss = -0.6247695684432983\n"
     ]
    },
    {
     "name": "stderr",
     "output_type": "stream",
     "text": [
      "WARNING:root:Lossy conversion from float64 to uint8. Range [-4.31057191970962, 4.016528220337302]. Convert image to uint8 prior to saving to suppress this warning.\n"
     ]
    },
    {
     "name": "stdout",
     "output_type": "stream",
     "text": [
      "g_loss = 1.275578260421753 d_loss = -0.6341353058815002\n",
      "g_loss = 1.262826681137085 d_loss = -0.627792239189148\n",
      "g_loss = 1.24434494972229 d_loss = -0.6229196190834045\n",
      "g_loss = 1.230353832244873 d_loss = -0.6185544729232788\n",
      "g_loss = 1.242201805114746 d_loss = -0.6226264834403992\n",
      "g_loss = 1.245404839515686 d_loss = -0.6176306009292603\n",
      "g_loss = 1.2055256366729736 d_loss = -0.6113483905792236\n",
      "g_loss = 1.3067915439605713 d_loss = -0.6419142484664917\n",
      "g_loss = 1.2344224452972412 d_loss = -0.6241049766540527\n",
      "g_loss = 1.248085379600525 d_loss = -0.6232321262359619\n"
     ]
    },
    {
     "name": "stderr",
     "output_type": "stream",
     "text": [
      "WARNING:root:Lossy conversion from float64 to uint8. Range [-4.459853834453753, 4.688224340832004]. Convert image to uint8 prior to saving to suppress this warning.\n"
     ]
    },
    {
     "name": "stdout",
     "output_type": "stream",
     "text": [
      "g_loss = 1.2410218715667725 d_loss = -0.622421145439148\n",
      "g_loss = 1.301579475402832 d_loss = -0.6331208944320679\n",
      "g_loss = 1.2482728958129883 d_loss = -0.6240123510360718\n",
      "g_loss = 1.2771453857421875 d_loss = -0.6357988119125366\n",
      "g_loss = 1.2432277202606201 d_loss = -0.6257794499397278\n",
      "g_loss = 1.17531418800354 d_loss = -0.6060070991516113\n",
      "g_loss = 1.1899566650390625 d_loss = -0.6024476289749146\n",
      "g_loss = 1.1953895092010498 d_loss = -0.6157965660095215\n",
      "g_loss = 1.2798819541931152 d_loss = -0.6340032815933228\n",
      "g_loss = 1.202331304550171 d_loss = -0.6092476844787598\n"
     ]
    },
    {
     "name": "stderr",
     "output_type": "stream",
     "text": [
      "WARNING:root:Lossy conversion from float64 to uint8. Range [-4.30801673037294, 4.029875887253224]. Convert image to uint8 prior to saving to suppress this warning.\n"
     ]
    },
    {
     "name": "stdout",
     "output_type": "stream",
     "text": [
      "g_loss = 1.215448021888733 d_loss = -0.617973804473877\n",
      "g_loss = 1.2479861974716187 d_loss = -0.6281653642654419\n",
      "g_loss = 1.1787266731262207 d_loss = -0.6133511662483215\n",
      "g_loss = 1.2324782609939575 d_loss = -0.6182398796081543\n",
      "g_loss = 1.2081282138824463 d_loss = -0.6150178909301758\n",
      "g_loss = 1.2520939111709595 d_loss = -0.6244587898254395\n",
      "g_loss = 1.2459752559661865 d_loss = -0.6331602334976196\n",
      "g_loss = 1.272331953048706 d_loss = -0.6268749237060547\n",
      "g_loss = 1.2217870950698853 d_loss = -0.6213549375534058\n",
      "g_loss = 1.2861018180847168 d_loss = -0.6312488317489624\n"
     ]
    },
    {
     "name": "stderr",
     "output_type": "stream",
     "text": [
      "WARNING:root:Lossy conversion from float64 to uint8. Range [-4.3323903500131955, 4.231050902857366]. Convert image to uint8 prior to saving to suppress this warning.\n"
     ]
    },
    {
     "name": "stdout",
     "output_type": "stream",
     "text": [
      "g_loss = 1.2478437423706055 d_loss = -0.6230653524398804\n",
      "g_loss = 1.2280995845794678 d_loss = -0.6235374212265015\n",
      "g_loss = 1.1523137092590332 d_loss = -0.5974631905555725\n",
      "g_loss = 1.3367986679077148 d_loss = -0.6483896374702454\n",
      "g_loss = 1.2448556423187256 d_loss = -0.6211198568344116\n",
      "g_loss = 1.292891502380371 d_loss = -0.6371098160743713\n",
      "g_loss = 1.2681255340576172 d_loss = -0.6252503395080566\n",
      "g_loss = 1.2342296838760376 d_loss = -0.6229746341705322\n",
      "g_loss = 1.2700161933898926 d_loss = -0.6360092163085938\n",
      "g_loss = 1.2281594276428223 d_loss = -0.6188946962356567\n"
     ]
    },
    {
     "name": "stderr",
     "output_type": "stream",
     "text": [
      "WARNING:root:Lossy conversion from float64 to uint8. Range [-4.26004626346967, 4.310634837781228]. Convert image to uint8 prior to saving to suppress this warning.\n"
     ]
    },
    {
     "name": "stdout",
     "output_type": "stream",
     "text": [
      "g_loss = 1.2568234205245972 d_loss = -0.6244489550590515\n",
      "g_loss = 1.2858765125274658 d_loss = -0.6369539499282837\n",
      "g_loss = 1.2784364223480225 d_loss = -0.6335643529891968\n",
      "g_loss = 1.2661561965942383 d_loss = -0.6227573752403259\n",
      "g_loss = 1.203213095664978 d_loss = -0.6110644340515137\n",
      "g_loss = 1.266406774520874 d_loss = -0.6324579119682312\n",
      "g_loss = 1.2735185623168945 d_loss = -0.6352860927581787\n",
      "g_loss = 1.2601861953735352 d_loss = -0.6318362951278687\n",
      "g_loss = 1.2219539880752563 d_loss = -0.6194855570793152\n",
      "g_loss = 1.19643235206604 d_loss = -0.6093240976333618\n"
     ]
    },
    {
     "name": "stderr",
     "output_type": "stream",
     "text": [
      "WARNING:root:Lossy conversion from float64 to uint8. Range [-4.545945393048616, 4.532310216013743]. Convert image to uint8 prior to saving to suppress this warning.\n"
     ]
    },
    {
     "name": "stdout",
     "output_type": "stream",
     "text": [
      "g_loss = 1.200497031211853 d_loss = -0.6137809753417969\n",
      "g_loss = 1.2671797275543213 d_loss = -0.6269727349281311\n",
      "g_loss = 1.220973253250122 d_loss = -0.616145133972168\n",
      "g_loss = 1.2335243225097656 d_loss = -0.6225377321243286\n",
      "g_loss = 1.2824804782867432 d_loss = -0.6406416893005371\n",
      "g_loss = 1.1679399013519287 d_loss = -0.6087818145751953\n",
      "g_loss = 1.2776196002960205 d_loss = -0.6368093490600586\n",
      "g_loss = 1.2977344989776611 d_loss = -0.6342454552650452\n",
      "g_loss = 1.2692663669586182 d_loss = -0.6251206398010254\n",
      "g_loss = 1.234188437461853 d_loss = -0.6231746673583984\n"
     ]
    },
    {
     "name": "stderr",
     "output_type": "stream",
     "text": [
      "WARNING:root:Lossy conversion from float64 to uint8. Range [-4.661870517646615, 4.185209079935831]. Convert image to uint8 prior to saving to suppress this warning.\n"
     ]
    },
    {
     "name": "stdout",
     "output_type": "stream",
     "text": [
      "g_loss = 1.2777099609375 d_loss = -0.6338064670562744\n",
      "g_loss = 1.2843295335769653 d_loss = -0.629057765007019\n",
      "g_loss = 1.242414951324463 d_loss = -0.6232219934463501\n",
      "g_loss = 1.2774535417556763 d_loss = -0.6285609602928162\n",
      "g_loss = 1.2482413053512573 d_loss = -0.6257616281509399\n",
      "g_loss = 1.2732579708099365 d_loss = -0.6385220885276794\n",
      "g_loss = 1.25846529006958 d_loss = -0.6261402368545532\n",
      "g_loss = 1.2612642049789429 d_loss = -0.6294412612915039\n",
      "g_loss = 1.2786986827850342 d_loss = -0.6335234642028809\n",
      "g_loss = 1.26106858253479 d_loss = -0.6307772397994995\n"
     ]
    },
    {
     "name": "stderr",
     "output_type": "stream",
     "text": [
      "WARNING:root:Lossy conversion from float64 to uint8. Range [-4.555755294814391, 4.688224340832004]. Convert image to uint8 prior to saving to suppress this warning.\n"
     ]
    },
    {
     "name": "stdout",
     "output_type": "stream",
     "text": [
      "g_loss = 1.2825124263763428 d_loss = -0.6401498317718506\n",
      "g_loss = 1.2198600769042969 d_loss = -0.6186304092407227\n",
      "g_loss = 1.2720344066619873 d_loss = -0.6237193942070007\n",
      "g_loss = 1.2603130340576172 d_loss = -0.628502607345581\n",
      "g_loss = 1.3017868995666504 d_loss = -0.641263484954834\n",
      "g_loss = 1.2817717790603638 d_loss = -0.6298856139183044\n",
      "g_loss = 1.243302822113037 d_loss = -0.6313893795013428\n",
      "g_loss = 1.2446725368499756 d_loss = -0.6256345510482788\n",
      "g_loss = 1.2214869260787964 d_loss = -0.6184892654418945\n",
      "g_loss = 1.2872347831726074 d_loss = -0.6359715461730957\n"
     ]
    },
    {
     "name": "stderr",
     "output_type": "stream",
     "text": [
      "WARNING:root:Lossy conversion from float64 to uint8. Range [-4.781883745629559, 4.320918875737645]. Convert image to uint8 prior to saving to suppress this warning.\n"
     ]
    },
    {
     "name": "stdout",
     "output_type": "stream",
     "text": [
      "g_loss = 1.2853784561157227 d_loss = -0.6326954364776611\n",
      "g_loss = 1.225445032119751 d_loss = -0.6166419982910156\n",
      "g_loss = 1.2354698181152344 d_loss = -0.6245889067649841\n",
      "g_loss = 1.2697432041168213 d_loss = -0.6338899731636047\n",
      "g_loss = 1.2404873371124268 d_loss = -0.6265147924423218\n",
      "g_loss = 1.2036064863204956 d_loss = -0.6090502738952637\n",
      "g_loss = 1.221085786819458 d_loss = -0.6160999536514282\n",
      "g_loss = 1.228010892868042 d_loss = -0.6238529086112976\n",
      "g_loss = 1.2645370960235596 d_loss = -0.6328611969947815\n",
      "g_loss = 1.2809667587280273 d_loss = -0.6410366892814636\n"
     ]
    },
    {
     "name": "stderr",
     "output_type": "stream",
     "text": [
      "WARNING:root:Lossy conversion from float64 to uint8. Range [-4.580535168434812, 4.113089816781024]. Convert image to uint8 prior to saving to suppress this warning.\n"
     ]
    },
    {
     "name": "stdout",
     "output_type": "stream",
     "text": [
      "g_loss = 1.2263171672821045 d_loss = -0.6180318593978882\n",
      "g_loss = 1.23653244972229 d_loss = -0.6216540932655334\n",
      "g_loss = 1.2016170024871826 d_loss = -0.6097781658172607\n",
      "g_loss = 1.2560486793518066 d_loss = -0.6268234252929688\n",
      "g_loss = 1.227988362312317 d_loss = -0.6170956492424011\n",
      "g_loss = 1.266645908355713 d_loss = -0.629179060459137\n",
      "g_loss = 1.257666826248169 d_loss = -0.6290581226348877\n",
      "g_loss = 1.2352802753448486 d_loss = -0.6207190752029419\n",
      "g_loss = 1.3566126823425293 d_loss = -0.6481856107711792\n",
      "g_loss = 1.2631568908691406 d_loss = -0.630932092666626\n"
     ]
    }
   ],
   "source": [
    "#build g_model\n",
    "g_model = build_nice_model()\n",
    "\n",
    "#build d_model\n",
    "x_in = Input(shape=(img_dim,))\n",
    "x = x_in\n",
    "x = Dense(img_dim, activation='relu')(x)\n",
    "x = Dense(img_dim, activation='relu')(x)\n",
    "x = Dense(1, use_bias=False)(x)\n",
    "d_model = Model(x_in, x)\n",
    "\n",
    "#build d_train_model\n",
    "\n",
    "d_model.trainable = True\n",
    "g_model.trainable = False\n",
    "x_real_in = Input(shape=(img_dim,))\n",
    "x_fake_in = Input(shape=(img_dim,))\n",
    "x_real = x_real_in\n",
    "x_fake = g_model(x_fake_in)\n",
    "x_real_score = d_model(x_real)\n",
    "x_fake_score = d_model(x_fake)\n",
    "d_train_model = Model([x_real_in, x_fake_in],\n",
    "                      [x_real_score, x_fake_score])\n",
    "d_loss = x_real_score - x_fake_score\n",
    "d_norm = 10 * K.mean(K.abs(x_real - x_fake), axis=[1])\n",
    "d_loss = K.mean(- d_loss + 0.5 * d_loss**2 / d_norm)\n",
    "d_train_model.add_loss(d_loss)\n",
    "d_train_model.compile(optimizer=Adam(2e-4, 0.5), loss=None)\n",
    "#build g_train_model\n",
    "d_model.trainable = False\n",
    "g_model.trainable = True\n",
    "x_real_in = Input(shape=(img_dim,))\n",
    "x_fake_in = Input(shape=(img_dim,))\n",
    "x_real = x_real_in\n",
    "x_fake = g_model(x_fake_in)\n",
    "x_real_score = d_model(x_real)\n",
    "x_fake_score = d_model(x_fake)\n",
    "g_train_model = Model([x_real_in, x_fake_in],\n",
    "                      [x_real_score, x_fake_score])\n",
    "g_loss = K.mean(x_real_score - x_fake_score)\n",
    "g_train_model.add_loss(g_loss)\n",
    "g_train_model.compile(optimizer=Adam(2e-4, 0.5), loss=None)\n",
    "\n",
    "#train\n",
    "def gen_batch(x, batch_size):\n",
    "    idx = np.random.choice(len(x), batch_size)\n",
    "    return x[idx]\n",
    "\n",
    "def sample(fpath):\n",
    "    num = 9\n",
    "    x_fake = gen_batch(x_0, num*num)\n",
    "    x_fake_gen = g_model.predict(x_fake)\n",
    "    x_fake = x_fake.reshape(num*num, img_sz, img_sz)\n",
    "    x_fake_gen = x_fake_gen.reshape(num*num, img_sz, img_sz)\n",
    "    x_real = gen_batch(x_1, num*num)\n",
    "    x_real = x_real.reshape(num*num, img_sz, img_sz)\n",
    "    output = np.zeros((3*num*img_sz, num*img_sz))\n",
    "    st1 = num*img_sz\n",
    "    st2 = 2*num*img_sz\n",
    "    for i in range(num):\n",
    "        for j in range(num):\n",
    "            output[i*img_sz:(i+1)*img_sz, j*img_sz:(j+1)*img_sz] = x_real[i*num+j]\n",
    "            output[st1+i*img_sz:st1+(i+1)*img_sz, j*img_sz:(j+1)*img_sz] = x_fake[i*num+j]\n",
    "            output[st2+i*img_sz:st2+(i+1)*img_sz, j*img_sz:(j+1)*img_sz] = x_fake_gen[i*num+j]\n",
    "    imageio.imwrite(fpath, output)\n",
    "\n",
    "def build_classify_model():\n",
    "    x_in = Input(shape=(img_dim,))\n",
    "    x = x_in\n",
    "    x = Dense(128, activation='relu')(x)\n",
    "    x = Dense(1, activation='sigmoid')(x)\n",
    "    model = Model(x_in, x)\n",
    "    model.compile(optimizer=Adam(2e-4, 0.5), loss='binary_crossentropy', metrics='acc')\n",
    "    return model\n",
    "\n",
    "def classify():\n",
    "    pass\n",
    "    #model = build_classify_model()\n",
    "    #x_train = \n",
    "    \n",
    "def train(num_iters, batch_size, train_d_iter, sample_iter, log_iter, classify_iter):\n",
    "    #0 -> 1\n",
    "    for i in range(num_iters):\n",
    "        x_fake = gen_batch(x_0, batch_size)\n",
    "        x_real = gen_batch(x_1, batch_size)\n",
    "        for j in range(train_d_iter):\n",
    "            d_loss = d_train_model.train_on_batch([x_real, x_fake], None)\n",
    "        g_loss = g_train_model.train_on_batch([x_real, x_fake], None)\n",
    "        if i % log_iter == 0:\n",
    "            print(f'g_loss = {g_loss} d_loss = {d_loss}')\n",
    "        if i % sample_iter == 0:\n",
    "            sample(f'sample_gan_mnist/iter_{i}.png')\n",
    "        if i % classify_iter == 0:\n",
    "            classify()\n",
    "g_model.summary()\n",
    "train(num_iters=5000,\n",
    "      batch_size=64,\n",
    "      train_d_iter=2,\n",
    "      sample_iter=100,\n",
    "      log_iter=10,\n",
    "      classify_iter=500)"
   ]
  },
  {
   "cell_type": "code",
   "execution_count": null,
   "metadata": {},
   "outputs": [],
   "source": [
    "print(len(np.zeros((2, 3, 4))))"
   ]
  }
 ],
 "metadata": {
  "kernelspec": {
   "display_name": "Python 3",
   "language": "python",
   "name": "python3"
  },
  "language_info": {
   "codemirror_mode": {
    "name": "ipython",
    "version": 3
   },
   "file_extension": ".py",
   "mimetype": "text/x-python",
   "name": "python",
   "nbconvert_exporter": "python",
   "pygments_lexer": "ipython3",
   "version": "3.6.5"
  }
 },
 "nbformat": 4,
 "nbformat_minor": 2
}
