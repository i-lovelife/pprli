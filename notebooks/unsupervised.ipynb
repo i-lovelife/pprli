{
 "cells": [
  {
   "cell_type": "code",
   "execution_count": 1,
   "metadata": {},
   "outputs": [],
   "source": [
    "%matplotlib inline\n",
    "%load_ext autoreload\n",
    "%autoreload 2"
   ]
  },
  {
   "cell_type": "code",
   "execution_count": 2,
   "metadata": {},
   "outputs": [
    {
     "name": "stderr",
     "output_type": "stream",
     "text": [
      "Using TensorFlow backend.\n"
     ]
    }
   ],
   "source": [
    "from keras.layers import Input, Lambda, BatchNormalization, Conv2D, Reshape, Dense,\\\n",
    "                         Dropout, Activation, Flatten, LeakyReLU, Add, MaxPooling2D,\\\n",
    "                         GlobalMaxPooling2D, Subtract\n",
    "from keras.losses import categorical_crossentropy\n",
    "from keras.models import Model\n",
    "from keras import backend as K\n",
    "from keras.optimizers import Adam\n",
    "\n",
    "from pathlib import Path\n",
    "import numpy as np\n",
    "from src.data.dataset import load_ferg\n",
    "from src import PROJECT_ROOT\n",
    "import os\n",
    "os.environ[\"CUDA_VISIBLE_DEVICES\"] = '0'"
   ]
  },
  {
   "cell_type": "code",
   "execution_count": 3,
   "metadata": {},
   "outputs": [
    {
     "name": "stdout",
     "output_type": "stream",
     "text": [
      "7, 6, (64, 64, 3)\n"
     ]
    }
   ],
   "source": [
    "loader = load_ferg()\n",
    "(x_train, y_train, p_train), (x_test, y_test, p_test) = loader.load_data()\n",
    "num_y, num_p = loader.get_num_classes()\n",
    "input_shape = x_train[0].shape\n",
    "print(f'{num_y}, {num_p}, {input_shape}')"
   ]
  },
  {
   "cell_type": "code",
   "execution_count": 4,
   "metadata": {},
   "outputs": [],
   "source": [
    "def empty_loss(y_true, y_pred):\n",
    "    return y_pred\n",
    "def make_trainable(net, val):\n",
    "    net.trainable = val\n",
    "    for l in net.layers:\n",
    "        l.trainable = val\n",
    "def show_model(model):\n",
    "    print('-'*80)\n",
    "    print(model.summary())\n",
    "    print(model.metrics_names)\n",
    "    print('-'*80)"
   ]
  },
  {
   "cell_type": "code",
   "execution_count": 14,
   "metadata": {},
   "outputs": [
    {
     "name": "stdout",
     "output_type": "stream",
     "text": [
      "Train on 47401 samples, validate on 8365 samples\n",
      "Epoch 1/20\n",
      "47401/47401 [==============================] - 2s 36us/step - loss: 1.9150 - acc: 0.2476 - val_loss: 1.7563 - val_acc: 0.4417\n",
      "Epoch 2/20\n",
      "47401/47401 [==============================] - 1s 12us/step - loss: 1.6172 - acc: 0.5575 - val_loss: 1.4756 - val_acc: 0.7399\n",
      "Epoch 3/20\n",
      "47401/47401 [==============================] - 1s 12us/step - loss: 1.3517 - acc: 0.8594 - val_loss: 1.2271 - val_acc: 1.0000\n",
      "Epoch 4/20\n",
      "47401/47401 [==============================] - 1s 13us/step - loss: 1.1195 - acc: 1.0000 - val_loss: 1.0125 - val_acc: 1.0000\n",
      "Epoch 5/20\n",
      "47401/47401 [==============================] - 1s 13us/step - loss: 0.9213 - acc: 1.0000 - val_loss: 0.8317 - val_acc: 1.0000\n",
      "Epoch 6/20\n",
      "47401/47401 [==============================] - 1s 12us/step - loss: 0.7562 - acc: 1.0000 - val_loss: 0.6825 - val_acc: 1.0000\n",
      "Epoch 7/20\n",
      "47401/47401 [==============================] - 1s 13us/step - loss: 0.6211 - acc: 1.0000 - val_loss: 0.5615 - val_acc: 1.0000\n",
      "Epoch 8/20\n",
      "47401/47401 [==============================] - 1s 13us/step - loss: 0.5120 - acc: 1.0000 - val_loss: 0.4641 - val_acc: 1.0000\n",
      "Epoch 9/20\n",
      "47401/47401 [==============================] - 1s 12us/step - loss: 0.4244 - acc: 1.0000 - val_loss: 0.3860 - val_acc: 1.0000\n",
      "Epoch 10/20\n",
      "47401/47401 [==============================] - 1s 13us/step - loss: 0.3542 - acc: 1.0000 - val_loss: 0.3234 - val_acc: 1.0000\n",
      "Epoch 11/20\n",
      "47401/47401 [==============================] - 1s 13us/step - loss: 0.2977 - acc: 1.0000 - val_loss: 0.2729 - val_acc: 1.0000\n",
      "Epoch 12/20\n",
      "47401/47401 [==============================] - 1s 11us/step - loss: 0.2521 - acc: 1.0000 - val_loss: 0.2319 - val_acc: 1.0000\n",
      "Epoch 13/20\n",
      "47401/47401 [==============================] - 1s 12us/step - loss: 0.2150 - acc: 1.0000 - val_loss: 0.1985 - val_acc: 1.0000\n",
      "Epoch 14/20\n",
      "47401/47401 [==============================] - 1s 12us/step - loss: 0.1846 - acc: 1.0000 - val_loss: 0.1710 - val_acc: 1.0000\n",
      "Epoch 15/20\n",
      "47401/47401 [==============================] - 1s 17us/step - loss: 0.1595 - acc: 1.0000 - val_loss: 0.1481 - val_acc: 1.0000\n",
      "Epoch 16/20\n",
      "47401/47401 [==============================] - 1s 14us/step - loss: 0.1385 - acc: 1.0000 - val_loss: 0.1290 - val_acc: 1.0000\n",
      "Epoch 17/20\n",
      "47401/47401 [==============================] - 1s 11us/step - loss: 0.1209 - acc: 1.0000 - val_loss: 0.1129 - val_acc: 1.0000\n",
      "Epoch 18/20\n",
      "47401/47401 [==============================] - 1s 11us/step - loss: 0.1061 - acc: 1.0000 - val_loss: 0.0993 - val_acc: 1.0000\n",
      "Epoch 19/20\n",
      "47401/47401 [==============================] - 1s 11us/step - loss: 0.0934 - acc: 1.0000 - val_loss: 0.0876 - val_acc: 1.0000\n",
      "Epoch 20/20\n",
      "47401/47401 [==============================] - 1s 11us/step - loss: 0.0826 - acc: 1.0000 - val_loss: 0.0776 - val_acc: 1.0000\n",
      "1.0\n"
     ]
    }
   ],
   "source": [
    "def build_decoder(num_classes, feature_dim=128):\n",
    "    x_in = Input((feature_dim,))\n",
    "    out = Dense(num_classes, activation='softmax')(x_in)\n",
    "    model = Model(x_in, out)\n",
    "    return model\n",
    "def build_encoder(input_shape, z_dim=128):\n",
    "    x_in = Input(input_shape)\n",
    "    x = x_in\n",
    "    field_size = 8\n",
    "    for i in range(3):\n",
    "        x = Conv2D(int(z_dim / 2**(2-i)),\n",
    "                   kernel_size=(field_size, field_size),\n",
    "                   padding='SAME')(x)\n",
    "        x = BatchNormalization()(x)\n",
    "        x = LeakyReLU(0.2)(x)\n",
    "        x = MaxPooling2D((2, 2))(x)\n",
    "    x = GlobalMaxPooling2D()(x)\n",
    "    return Model(x_in, x)\n",
    "def build_classifier(input_shape, encoder, decoder):\n",
    "    x_in = Input(input_shape)\n",
    "    z = encoder(x_in)\n",
    "    y_pred = decoder(z)\n",
    "    return Model(x_in, y_pred)\n",
    "def evaluate_encoder(train_data, test_data, feature_dim, num_classes, batch_size=256, num_epochs=20):\n",
    "    decoder = build_decoder(num_classes, feature_dim)\n",
    "    x_train, y_train = train_data\n",
    "    x_test, y_test = test_data\n",
    "    decoder.compile(optimizer=Adam(1e-3), loss='categorical_crossentropy', metrics=['accuracy'])\n",
    "    history = decoder.fit(x=x_train, y=y_train, epochs=num_epochs,batch_size=batch_size,\\\n",
    "                validation_data=(x_test, y_test),verbose=1)\n",
    "    return np.max(history.history['val_acc'])\n",
    "def train(train_data, test_data, input_shape, num_y, num_p, num_epochs=20, batch_size=128, dry_run=False,\\\n",
    "          load_weights=False, model_path='./best_model.h5'):\n",
    "    x_train, y_train, p_train = train_data\n",
    "    x_test, y_test, p_test = test_data\n",
    "    encoder = build_encoder(input_shape)\n",
    "    decoder_y = build_decoder(num_y)\n",
    "    model = build_classifier(input_shape, encoder, decoder_y)\n",
    "    model.compile(optimizer=Adam(1e-3), loss='categorical_crossentropy', metrics=['accuracy'])\n",
    "    if dry_run:\n",
    "        show_model(encoder)\n",
    "        show_model(decoder_y)\n",
    "        show_model(model)\n",
    "        return\n",
    "    if load_weights:\n",
    "        model.load_weights(model_path)\n",
    "    else:\n",
    "        model.fit(x_train, y_train, validation_data=(x_test, y_test), epochs=num_epochs, batch_size=batch_size)\n",
    "        model.save_weights(model_path)\n",
    "    z_train = model.predict(x_train)\n",
    "    z_test = model.predict(x_test)\n",
    "    #acc = evaluate_encoder((z_train, p_train), (z_test, p_test), feature_dim=z_train.shape[1], num_classes=num_p)\n",
    "    acc = evaluate_encoder((z_train, y_train), (z_test, y_test), feature_dim=z_train.shape[1], num_classes=num_y)\n",
    "    print(f'{acc}')\n",
    "train((x_train, y_train, p_train), (x_test, y_test, p_test), input_shape, num_y, num_p, num_epochs=5, load_weights=True, dry_run=False)"
   ]
  }
 ],
 "metadata": {
  "kernelspec": {
   "display_name": "Python 3",
   "language": "python",
   "name": "python3"
  },
  "language_info": {
   "codemirror_mode": {
    "name": "ipython",
    "version": 3
   },
   "file_extension": ".py",
   "mimetype": "text/x-python",
   "name": "python",
   "nbconvert_exporter": "python",
   "pygments_lexer": "ipython3",
   "version": "3.6.5"
  }
 },
 "nbformat": 4,
 "nbformat_minor": 2
}
