{
 "cells": [
  {
   "cell_type": "code",
   "execution_count": 13,
   "metadata": {},
   "outputs": [
    {
     "name": "stdout",
     "output_type": "stream",
     "text": [
      "(6000, 64, 64, 3)\n",
      "(6000, 7)\n",
      "(6000, 6)\n"
     ]
    }
   ],
   "source": [
    "import sys\n",
    "import ujson as json\n",
    "import numpy as np\n",
    "sys.path.append('../')\n",
    "from src import EXPERIMENT_ROOT\n",
    "from src.privater import Privater\n",
    "from src.data.dataset import Ferg\n",
    "\n",
    "ferg = Ferg.from_hdf5()\n",
    "\n",
    "data = {'x':[],'y':[],'p':[]}\n",
    "for i in range(6):\n",
    "    collected_data = ferg.sample(num=1000, selected_p=[i])\n",
    "    for key in data.keys():\n",
    "        data[key].append(collected_data[key])\n",
    "for key in data.keys():\n",
    "    data[key] = np.concatenate(data[key], axis=0)\n",
    "    print(data[key].shape)\n",
    "    \n",
    "    \n",
    "    "
   ]
  },
  {
   "cell_type": "code",
   "execution_count": 16,
   "metadata": {},
   "outputs": [
    {
     "name": "stdout",
     "output_type": "stream",
     "text": [
      "{'x': array([[-1.1742022 , -0.41935785,  0.2628477 , ..., -0.9952149 ,\n",
      "        -0.54740145,  0.89166033],\n",
      "       [-0.75405935,  1.88501122, -1.71035074, ...,  1.84169788,\n",
      "         0.62772386, -1.09173984],\n",
      "       [-0.37419582, -0.45618747,  0.94153901, ...,  0.87733783,\n",
      "         0.2435842 , -1.33490176],\n",
      "       ...,\n",
      "       [ 0.68844024, -1.17348765,  0.33908594, ...,  0.64580505,\n",
      "        -0.20307997,  1.22093487],\n",
      "       [ 0.14486779, -0.07923783,  1.92484277, ..., -0.79014207,\n",
      "         1.93684766,  1.1395595 ],\n",
      "       [ 1.39236863, -1.75147848,  0.13549882, ...,  0.20254012,\n",
      "         0.38174803, -0.28924919]]), 'y': array([[0., 0., 0., ..., 1., 0., 0.],\n",
      "       [0., 0., 0., ..., 1., 0., 0.],\n",
      "       [1., 0., 0., ..., 0., 0., 0.],\n",
      "       ...,\n",
      "       [0., 0., 1., ..., 0., 0., 0.],\n",
      "       [0., 0., 1., ..., 0., 0., 0.],\n",
      "       [0., 1., 0., ..., 0., 0., 0.]], dtype=float32), 'p': array([[1., 0., 0., 0., 0., 0.],\n",
      "       [1., 0., 0., 0., 0., 0.],\n",
      "       [1., 0., 0., 0., 0., 0.],\n",
      "       ...,\n",
      "       [0., 0., 0., 0., 0., 1.],\n",
      "       [0., 0., 0., 0., 0., 1.],\n",
      "       [0., 0., 0., 0., 0., 1.]], dtype=float32)}\n"
     ]
    },
    {
     "ename": "TypeError",
     "evalue": "visualize() got an unexpected keyword argument 'num_colors'",
     "output_type": "error",
     "traceback": [
      "\u001b[0;31m---------------------------------------------------------------------------\u001b[0m",
      "\u001b[0;31mTypeError\u001b[0m                                 Traceback (most recent call last)",
      "\u001b[0;32m<ipython-input-16-2636fc4c8e89>\u001b[0m in \u001b[0;36m<module>\u001b[0;34m\u001b[0m\n\u001b[1;32m     11\u001b[0m     \u001b[0mpredicted_data\u001b[0m \u001b[0;34m=\u001b[0m \u001b[0mprivater\u001b[0m\u001b[0;34m.\u001b[0m\u001b[0mpredict\u001b[0m\u001b[0;34m(\u001b[0m\u001b[0mdata\u001b[0m\u001b[0;34m)\u001b[0m\u001b[0;34m\u001b[0m\u001b[0m\n\u001b[1;32m     12\u001b[0m     \u001b[0mprint\u001b[0m\u001b[0;34m(\u001b[0m\u001b[0mpredicted_data\u001b[0m\u001b[0;34m)\u001b[0m\u001b[0;34m\u001b[0m\u001b[0m\n\u001b[0;32m---> 13\u001b[0;31m     \u001b[0mvisualize\u001b[0m\u001b[0;34m(\u001b[0m\u001b[0mpredicted_data\u001b[0m\u001b[0;34m[\u001b[0m\u001b[0;34m'x'\u001b[0m\u001b[0;34m]\u001b[0m\u001b[0;34m,\u001b[0m \u001b[0mnp\u001b[0m\u001b[0;34m.\u001b[0m\u001b[0margmax\u001b[0m\u001b[0;34m(\u001b[0m\u001b[0mpredicted_data\u001b[0m\u001b[0;34m[\u001b[0m\u001b[0;34m'p'\u001b[0m\u001b[0;34m]\u001b[0m\u001b[0;34m,\u001b[0m \u001b[0maxis\u001b[0m\u001b[0;34m=\u001b[0m\u001b[0;34m-\u001b[0m\u001b[0;36m1\u001b[0m\u001b[0;34m)\u001b[0m\u001b[0;34m,\u001b[0m \u001b[0mname\u001b[0m\u001b[0;34m=\u001b[0m\u001b[0mroot\u001b[0m\u001b[0;34m.\u001b[0m\u001b[0mname\u001b[0m\u001b[0;34m,\u001b[0m \u001b[0mnum_colors\u001b[0m\u001b[0;34m=\u001b[0m\u001b[0mpredicted_data\u001b[0m\u001b[0;34m[\u001b[0m\u001b[0;34m'p'\u001b[0m\u001b[0;34m]\u001b[0m\u001b[0;34m.\u001b[0m\u001b[0mshape\u001b[0m\u001b[0;34m[\u001b[0m\u001b[0;34m-\u001b[0m\u001b[0;36m1\u001b[0m\u001b[0;34m]\u001b[0m\u001b[0;34m)\u001b[0m\u001b[0;34m\u001b[0m\u001b[0m\n\u001b[0m",
      "\u001b[0;31mTypeError\u001b[0m: visualize() got an unexpected keyword argument 'num_colors'"
     ]
    }
   ],
   "source": [
    "from src.util.visualize import visualize\n",
    "vae_root = EXPERIMENT_ROOT / 'vae'\n",
    "cvae_root = EXPERIMENT_ROOT / 'cvae'\n",
    "ad_cvae_root = EXPERIMENT_ROOT / 'ad_cvae'\n",
    "for root in [vae_root, cvae_root, ad_cvae_root]:\n",
    "    config_path = root / 'config.json'\n",
    "    f = config_path.open('r')\n",
    "    config = json.load(f)\n",
    "    privater = Privater.from_hp(config.get('privater',{}))\n",
    "    privater.load_weights(root / 'model_weight_30.hdf5')\n",
    "    predicted_data = privater.predict(data)\n",
    "    print(predicted_data)\n",
    "    visualize(predicted_data['x'], np.argmax(predicted_data['p'], axis=-1), name=root.name, num_colors=predicted_data['p'].shape[-1])"
   ]
  }
 ],
 "metadata": {
  "kernelspec": {
   "display_name": "Python 3",
   "language": "python",
   "name": "python3"
  },
  "language_info": {
   "codemirror_mode": {
    "name": "ipython",
    "version": 3
   },
   "file_extension": ".py",
   "mimetype": "text/x-python",
   "name": "python",
   "nbconvert_exporter": "python",
   "pygments_lexer": "ipython3",
   "version": "3.6.5"
  }
 },
 "nbformat": 4,
 "nbformat_minor": 2
}
